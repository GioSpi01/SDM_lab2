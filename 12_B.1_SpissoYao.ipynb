{
 "cells": [
  {
   "cell_type": "code",
   "execution_count": 1,
   "metadata": {},
   "outputs": [],
   "source": [
    "import os\n",
    "from rdflib import Graph, Namespace, RDF, RDFS, XSD\n",
    "\n",
    "# Create a Graph\n",
    "EX = Namespace(\"http://example.org/research_paper#\")\n",
    "\n",
    "# Create a graph\n",
    "g = Graph()\n",
    "\n",
    "# Bind common prefixes (for readability)\n",
    "g.bind(\"ex\", EX)\n",
    "g.bind(\"rdfs\", RDFS)\n",
    "g.bind(\"rdf\", RDF)"
   ]
  },
  {
   "cell_type": "code",
   "execution_count": null,
   "id": "a4535d1b",
   "metadata": {},
   "outputs": [],
   "source": [
    "def create_property(g, namespace, property, domain, range):\n",
    "    g.add((namespace[property], RDF.type, RDF.Property))\n",
    "    g.add((namespace[property], RDFS.domain, namespace[domain]))\n",
    "    g.add((namespace[property], RDFS.range, namespace[range]))\n",
    "\n",
    "def create_class(g, namespace, class_name):\n",
    "    g.add((namespace[class_name], RDF.type, RDFS.Class))\n",
    "\n",
    "def create_subclass(g, namespace, subclass, superclass):\n",
    "    g.add((namespace[subclass], RDFS.subClassOf, namespace[superclass]))\n",
    "\n"
   ]
  },
  {
   "cell_type": "code",
   "execution_count": 4,
   "id": "f678c392",
   "metadata": {},
   "outputs": [],
   "source": [
    "# Create classes\n",
    "create_class(g, EX, \"Paper\")\n",
    "create_class(g, EX, \"Author\")\n",
    "create_class(g, EX, \"Journal\")\n",
    "create_class(g, EX, \"Conference\")\n",
    "create_class(g, EX, \"Topic\")\n",
    "create_class(g, EX, \"Abstract\")\n",
    "create_class(g, EX, \"Review\")\n",
    "create_class(g, EX, \"Publisher\")\n",
    "create_class(g, EX, \"Edition\")\n",
    "create_class(g, EX, \"Volume\")"
   ]
  },
  {
   "cell_type": "code",
   "execution_count": 5,
   "id": "9934d1a8",
   "metadata": {},
   "outputs": [],
   "source": [
    "# Restrictions on classes\n",
    "create_subclass(g, EX, \"Conference\", \"Publisher\")\n",
    "create_subclass(g, EX, \"Journal\", \"Publisher\")"
   ]
  },
  {
   "cell_type": "code",
   "execution_count": 8,
   "id": "61cc12e6",
   "metadata": {},
   "outputs": [
    {
     "data": {
      "text/plain": [
       "<Graph identifier=N350d3d42015849e5be1ad7ab8d7a3c0b (<class 'rdflib.graph.Graph'>)>"
      ]
     },
     "execution_count": 8,
     "metadata": {},
     "output_type": "execute_result"
    }
   ],
   "source": [
    "# Create properties\n",
    "create_property(g, EX, \"written_by\", \"Paper\", \"Author\")\n",
    "create_property(g, EX, \"cites\", \"Paper\", \"Paper\")\n",
    "create_property(g, EX, \"related_to\", \"Paper\", \"Topic\")\n",
    "create_property(g, EX, \"corresponds\", \"Paper\", \"Author\")\n",
    "create_property(g, EX, \"has_review\", \"Paper\", \"Review\")\n",
    "create_property(g, EX, \"is_reviewer\", \"Author\", \"Review\")\n",
    "create_property(g, EX, \"published_in\", \"Paper\", \"Publisher\")\n",
    "create_property(g, EX, \"has_edition\", \"Conference\", \"Edition\")\n",
    "create_property(g, EX, \"has_volume\", \"Journal\", \"Volume\")\n",
    "\n",
    "g.add((EX.has_number, RDF.type, RDF.Property))\n",
    "g.add((EX.has_number, RDFS.domain, EX.Volume))\n",
    "g.add((EX.has_number, RDFS.range, XSD.string))\n",
    "g.add((EX.has_date, RDF.type, RDF.Property))\n",
    "g.add((EX.has_date, RDFS.domain, EX.Edition))\n",
    "g.add((EX.has_date, RDFS.range, XSD.string))\n",
    "g.add((EX.has_date, RDF.type, RDF.Property))\n",
    "g.add((EX.has_city, RDFS.domain, EX.Edition))\n",
    "g.add((EX.has_city, RDFS.range, XSD.string))\n",
    "g.add((EX.has_abstract, RDF.type, RDF.Property))\n",
    "g.add((EX.has_abstract, RDFS.domain, EX.Paper))\n",
    "g.add((EX.has_abstract, RDFS.range, XSD.string))"
   ]
  },
  {
   "cell_type": "code",
   "execution_count": 9,
   "id": "3348f731",
   "metadata": {},
   "outputs": [
    {
     "name": "stdout",
     "output_type": "stream",
     "text": [
      "(rdflib.term.URIRef('http://example.org/research_paper#Journal'), rdflib.term.URIRef('http://www.w3.org/1999/02/22-rdf-syntax-ns#type'), rdflib.term.URIRef('http://www.w3.org/2000/01/rdf-schema#Class'))\n",
      "(rdflib.term.URIRef('http://example.org/research_paper#has_number'), rdflib.term.URIRef('http://www.w3.org/2000/01/rdf-schema#domain'), rdflib.term.URIRef('http://example.org/research_paper#Volume'))\n",
      "(rdflib.term.URIRef('http://example.org/research_paper#has_review'), rdflib.term.URIRef('http://www.w3.org/1999/02/22-rdf-syntax-ns#type'), rdflib.term.URIRef('http://www.w3.org/1999/02/22-rdf-syntax-ns#Property'))\n",
      "(rdflib.term.URIRef('http://example.org/research_paper#has_city'), rdflib.term.URIRef('http://www.w3.org/2000/01/rdf-schema#range'), rdflib.term.URIRef('http://www.w3.org/2001/XMLSchema#string'))\n",
      "(rdflib.term.URIRef('http://www.w3.org/2001/XMLSchema#has_date'), rdflib.term.URIRef('http://www.w3.org/1999/02/22-rdf-syntax-ns#type'), rdflib.term.URIRef('http://www.w3.org/1999/02/22-rdf-syntax-ns#Property'))\n",
      "(rdflib.term.URIRef('http://example.org/research_paper#Review'), rdflib.term.URIRef('http://www.w3.org/1999/02/22-rdf-syntax-ns#type'), rdflib.term.URIRef('http://www.w3.org/2000/01/rdf-schema#Class'))\n",
      "(rdflib.term.URIRef('http://example.org/research_paper#related_to'), rdflib.term.URIRef('http://www.w3.org/1999/02/22-rdf-syntax-ns#type'), rdflib.term.URIRef('http://www.w3.org/1999/02/22-rdf-syntax-ns#Property'))\n",
      "(rdflib.term.URIRef('http://example.org/research_paper#corresponds'), rdflib.term.URIRef('http://www.w3.org/1999/02/22-rdf-syntax-ns#type'), rdflib.term.URIRef('http://www.w3.org/1999/02/22-rdf-syntax-ns#Property'))\n",
      "(rdflib.term.URIRef('http://www.w3.org/2001/XMLSchema#has_abstract'), rdflib.term.URIRef('http://www.w3.org/1999/02/22-rdf-syntax-ns#type'), rdflib.term.URIRef('http://www.w3.org/1999/02/22-rdf-syntax-ns#Property'))\n",
      "(rdflib.term.URIRef('http://www.w3.org/2001/XMLSchema#has_abstract'), rdflib.term.URIRef('http://www.w3.org/2000/01/rdf-schema#domain'), rdflib.term.URIRef('http://www.w3.org/2001/XMLSchema#Paper'))\n",
      "(rdflib.term.URIRef('http://example.org/research_paper#published_in'), rdflib.term.URIRef('http://www.w3.org/2000/01/rdf-schema#range'), rdflib.term.URIRef('http://example.org/research_paper#Publisher'))\n",
      "(rdflib.term.URIRef('http://example.org/research_paper#has_date'), rdflib.term.URIRef('http://www.w3.org/1999/02/22-rdf-syntax-ns#type'), rdflib.term.URIRef('http://www.w3.org/1999/02/22-rdf-syntax-ns#Property'))\n",
      "(rdflib.term.URIRef('http://example.org/research_paper#has_abstract'), rdflib.term.URIRef('http://www.w3.org/2000/01/rdf-schema#domain'), rdflib.term.URIRef('http://example.org/research_paper#Paper'))\n",
      "(rdflib.term.URIRef('http://example.org/research_paper#corresponds'), rdflib.term.URIRef('http://www.w3.org/2000/01/rdf-schema#range'), rdflib.term.URIRef('http://example.org/research_paper#Author'))\n",
      "(rdflib.term.URIRef('http://example.org/research_paper#corresponds'), rdflib.term.URIRef('http://www.w3.org/2000/01/rdf-schema#domain'), rdflib.term.URIRef('http://example.org/research_paper#Paper'))\n",
      "(rdflib.term.URIRef('http://example.org/research_paper#Topic'), rdflib.term.URIRef('http://www.w3.org/1999/02/22-rdf-syntax-ns#type'), rdflib.term.URIRef('http://www.w3.org/2000/01/rdf-schema#Class'))\n",
      "(rdflib.term.URIRef('http://example.org/research_paper#has_abstract'), rdflib.term.URIRef('http://www.w3.org/2000/01/rdf-schema#range'), rdflib.term.URIRef('http://www.w3.org/2001/XMLSchema#string'))\n",
      "(rdflib.term.URIRef('http://example.org/research_paper#Conference'), rdflib.term.URIRef('http://www.w3.org/1999/02/22-rdf-syntax-ns#type'), rdflib.term.URIRef('http://www.w3.org/2000/01/rdf-schema#Class'))\n",
      "(rdflib.term.URIRef('http://example.org/research_paper#has_date'), rdflib.term.URIRef('http://www.w3.org/2000/01/rdf-schema#range'), rdflib.term.URIRef('http://www.w3.org/2001/XMLSchema#string'))\n",
      "(rdflib.term.URIRef('http://example.org/research_paper#has_review'), rdflib.term.URIRef('http://www.w3.org/2000/01/rdf-schema#domain'), rdflib.term.URIRef('http://example.org/research_paper#Paper'))\n",
      "(rdflib.term.URIRef('http://example.org/research_paper#cites'), rdflib.term.URIRef('http://www.w3.org/2000/01/rdf-schema#domain'), rdflib.term.URIRef('http://example.org/research_paper#Paper'))\n",
      "(rdflib.term.URIRef('http://example.org/research_paper#has_volume'), rdflib.term.URIRef('http://www.w3.org/1999/02/22-rdf-syntax-ns#type'), rdflib.term.URIRef('http://www.w3.org/1999/02/22-rdf-syntax-ns#Property'))\n",
      "(rdflib.term.URIRef('http://www.w3.org/2001/XMLSchema#has_date'), rdflib.term.URIRef('http://www.w3.org/2000/01/rdf-schema#domain'), rdflib.term.URIRef('http://www.w3.org/2001/XMLSchema#Edition'))\n",
      "(rdflib.term.URIRef('http://example.org/research_paper#is_reviewer'), rdflib.term.URIRef('http://www.w3.org/2000/01/rdf-schema#domain'), rdflib.term.URIRef('http://example.org/research_paper#Author'))\n",
      "(rdflib.term.URIRef('http://example.org/research_paper#has_city'), rdflib.term.URIRef('http://www.w3.org/2000/01/rdf-schema#domain'), rdflib.term.URIRef('http://example.org/research_paper#Edition'))\n",
      "(rdflib.term.URIRef('http://example.org/research_paper#written_by'), rdflib.term.URIRef('http://www.w3.org/1999/02/22-rdf-syntax-ns#type'), rdflib.term.URIRef('http://www.w3.org/1999/02/22-rdf-syntax-ns#Property'))\n",
      "(rdflib.term.URIRef('http://example.org/research_paper#published_in'), rdflib.term.URIRef('http://www.w3.org/1999/02/22-rdf-syntax-ns#type'), rdflib.term.URIRef('http://www.w3.org/1999/02/22-rdf-syntax-ns#Property'))\n",
      "(rdflib.term.URIRef('http://www.w3.org/2001/XMLSchema#has_date'), rdflib.term.URIRef('http://www.w3.org/2000/01/rdf-schema#range'), rdflib.term.URIRef('http://www.w3.org/2001/XMLSchema#string'))\n",
      "(rdflib.term.URIRef('http://example.org/research_paper#written_by'), rdflib.term.URIRef('http://www.w3.org/2000/01/rdf-schema#range'), rdflib.term.URIRef('http://example.org/research_paper#Author'))\n",
      "(rdflib.term.URIRef('http://example.org/research_paper#Journal'), rdflib.term.URIRef('http://www.w3.org/2000/01/rdf-schema#subClassOf'), rdflib.term.URIRef('http://example.org/research_paper#Publisher'))\n",
      "(rdflib.term.URIRef('http://example.org/research_paper#Author'), rdflib.term.URIRef('http://www.w3.org/1999/02/22-rdf-syntax-ns#type'), rdflib.term.URIRef('http://www.w3.org/2000/01/rdf-schema#Class'))\n",
      "(rdflib.term.URIRef('http://example.org/research_paper#related_to'), rdflib.term.URIRef('http://www.w3.org/2000/01/rdf-schema#domain'), rdflib.term.URIRef('http://example.org/research_paper#Paper'))\n",
      "(rdflib.term.URIRef('http://example.org/research_paper#is_reviewer'), rdflib.term.URIRef('http://www.w3.org/2000/01/rdf-schema#range'), rdflib.term.URIRef('http://example.org/research_paper#Review'))\n",
      "(rdflib.term.URIRef('http://www.w3.org/2001/XMLSchema#has_abstract'), rdflib.term.URIRef('http://www.w3.org/2000/01/rdf-schema#range'), rdflib.term.URIRef('http://www.w3.org/2001/XMLSchema#string'))\n",
      "(rdflib.term.URIRef('http://www.w3.org/2001/XMLSchema#has_number'), rdflib.term.URIRef('http://www.w3.org/1999/02/22-rdf-syntax-ns#type'), rdflib.term.URIRef('http://www.w3.org/1999/02/22-rdf-syntax-ns#Property'))\n",
      "(rdflib.term.URIRef('http://www.w3.org/2001/XMLSchema#has_city'), rdflib.term.URIRef('http://www.w3.org/1999/02/22-rdf-syntax-ns#type'), rdflib.term.URIRef('http://www.w3.org/1999/02/22-rdf-syntax-ns#Property'))\n",
      "(rdflib.term.URIRef('http://example.org/research_paper#has_number'), rdflib.term.URIRef('http://www.w3.org/2000/01/rdf-schema#range'), rdflib.term.URIRef('http://www.w3.org/2001/XMLSchema#string'))\n",
      "(rdflib.term.URIRef('http://example.org/research_paper#has_edition'), rdflib.term.URIRef('http://www.w3.org/2000/01/rdf-schema#domain'), rdflib.term.URIRef('http://example.org/research_paper#Conference'))\n",
      "(rdflib.term.URIRef('http://example.org/research_paper#has_volume'), rdflib.term.URIRef('http://www.w3.org/2000/01/rdf-schema#domain'), rdflib.term.URIRef('http://example.org/research_paper#Journal'))\n",
      "(rdflib.term.URIRef('http://example.org/research_paper#Volume'), rdflib.term.URIRef('http://www.w3.org/1999/02/22-rdf-syntax-ns#type'), rdflib.term.URIRef('http://www.w3.org/2000/01/rdf-schema#Class'))\n",
      "(rdflib.term.URIRef('http://example.org/research_paper#Publisher'), rdflib.term.URIRef('http://www.w3.org/1999/02/22-rdf-syntax-ns#type'), rdflib.term.URIRef('http://www.w3.org/2000/01/rdf-schema#Class'))\n",
      "(rdflib.term.URIRef('http://example.org/research_paper#cites'), rdflib.term.URIRef('http://www.w3.org/2000/01/rdf-schema#range'), rdflib.term.URIRef('http://example.org/research_paper#Paper'))\n",
      "(rdflib.term.URIRef('http://example.org/research_paper#written_by'), rdflib.term.URIRef('http://www.w3.org/2000/01/rdf-schema#domain'), rdflib.term.URIRef('http://example.org/research_paper#Paper'))\n",
      "(rdflib.term.URIRef('http://example.org/research_paper#published_in'), rdflib.term.URIRef('http://www.w3.org/2000/01/rdf-schema#domain'), rdflib.term.URIRef('http://example.org/research_paper#Paper'))\n",
      "(rdflib.term.URIRef('http://www.w3.org/2001/XMLSchema#has_number'), rdflib.term.URIRef('http://www.w3.org/2000/01/rdf-schema#domain'), rdflib.term.URIRef('http://www.w3.org/2001/XMLSchema#Volume'))\n",
      "(rdflib.term.URIRef('http://example.org/research_paper#has_edition'), rdflib.term.URIRef('http://www.w3.org/1999/02/22-rdf-syntax-ns#type'), rdflib.term.URIRef('http://www.w3.org/1999/02/22-rdf-syntax-ns#Property'))\n",
      "(rdflib.term.URIRef('http://example.org/research_paper#Conference'), rdflib.term.URIRef('http://www.w3.org/2000/01/rdf-schema#subClassOf'), rdflib.term.URIRef('http://example.org/research_paper#Publisher'))\n",
      "(rdflib.term.URIRef('http://example.org/research_paper#has_volume'), rdflib.term.URIRef('http://www.w3.org/2000/01/rdf-schema#range'), rdflib.term.URIRef('http://example.org/research_paper#Volume'))\n",
      "(rdflib.term.URIRef('http://www.w3.org/2001/XMLSchema#has_city'), rdflib.term.URIRef('http://www.w3.org/2000/01/rdf-schema#domain'), rdflib.term.URIRef('http://www.w3.org/2001/XMLSchema#Edition'))\n",
      "(rdflib.term.URIRef('http://example.org/research_paper#is_reviewer'), rdflib.term.URIRef('http://www.w3.org/1999/02/22-rdf-syntax-ns#type'), rdflib.term.URIRef('http://www.w3.org/1999/02/22-rdf-syntax-ns#Property'))\n",
      "(rdflib.term.URIRef('http://example.org/research_paper#has_date'), rdflib.term.URIRef('http://www.w3.org/2000/01/rdf-schema#domain'), rdflib.term.URIRef('http://example.org/research_paper#Edition'))\n",
      "(rdflib.term.URIRef('http://example.org/research_paper#Edition'), rdflib.term.URIRef('http://www.w3.org/1999/02/22-rdf-syntax-ns#type'), rdflib.term.URIRef('http://www.w3.org/2000/01/rdf-schema#Class'))\n",
      "(rdflib.term.URIRef('http://example.org/research_paper#has_number'), rdflib.term.URIRef('http://www.w3.org/1999/02/22-rdf-syntax-ns#type'), rdflib.term.URIRef('http://www.w3.org/1999/02/22-rdf-syntax-ns#Property'))\n",
      "(rdflib.term.URIRef('http://example.org/research_paper#related_to'), rdflib.term.URIRef('http://www.w3.org/2000/01/rdf-schema#range'), rdflib.term.URIRef('http://example.org/research_paper#Topic'))\n",
      "(rdflib.term.URIRef('http://www.w3.org/2001/XMLSchema#has_number'), rdflib.term.URIRef('http://www.w3.org/2000/01/rdf-schema#range'), rdflib.term.URIRef('http://www.w3.org/2001/XMLSchema#string'))\n",
      "(rdflib.term.URIRef('http://example.org/research_paper#has_edition'), rdflib.term.URIRef('http://www.w3.org/2000/01/rdf-schema#range'), rdflib.term.URIRef('http://example.org/research_paper#Edition'))\n",
      "(rdflib.term.URIRef('http://example.org/research_paper#Paper'), rdflib.term.URIRef('http://www.w3.org/1999/02/22-rdf-syntax-ns#type'), rdflib.term.URIRef('http://www.w3.org/2000/01/rdf-schema#Class'))\n",
      "(rdflib.term.URIRef('http://example.org/research_paper#cites'), rdflib.term.URIRef('http://www.w3.org/1999/02/22-rdf-syntax-ns#type'), rdflib.term.URIRef('http://www.w3.org/1999/02/22-rdf-syntax-ns#Property'))\n",
      "(rdflib.term.URIRef('http://example.org/research_paper#Abstract'), rdflib.term.URIRef('http://www.w3.org/1999/02/22-rdf-syntax-ns#type'), rdflib.term.URIRef('http://www.w3.org/2000/01/rdf-schema#Class'))\n",
      "(rdflib.term.URIRef('http://www.w3.org/2001/XMLSchema#has_city'), rdflib.term.URIRef('http://www.w3.org/2000/01/rdf-schema#range'), rdflib.term.URIRef('http://www.w3.org/2001/XMLSchema#string'))\n",
      "(rdflib.term.URIRef('http://example.org/research_paper#has_review'), rdflib.term.URIRef('http://www.w3.org/2000/01/rdf-schema#range'), rdflib.term.URIRef('http://example.org/research_paper#Review'))\n",
      "(rdflib.term.URIRef('http://example.org/research_paper#has_abstract'), rdflib.term.URIRef('http://www.w3.org/1999/02/22-rdf-syntax-ns#type'), rdflib.term.URIRef('http://www.w3.org/1999/02/22-rdf-syntax-ns#Property'))\n"
     ]
    }
   ],
   "source": [
    "for s, p, o in g:\n",
    "    print((s, p, o))"
   ]
  },
  {
   "cell_type": "code",
   "execution_count": 11,
   "id": "33ba03e1",
   "metadata": {},
   "outputs": [
    {
     "name": "stdout",
     "output_type": "stream",
     "text": [
      "RDF saved to: c:\\Users\\spiss\\Desktop\\Programmi\\GitHub\\SDM_lab2\\example_graph.ttl\n"
     ]
    }
   ],
   "source": [
    "import os\n",
    "\n",
    "# Use current working directory instead of script path\n",
    "script_dir = os.getcwd()  # Works in Jupyter\n",
    "rdf_file_path = os.path.join(script_dir, \"example_graph.ttl\")\n",
    "\n",
    "# Save the graph\n",
    "g.serialize(destination=rdf_file_path, format=\"turtle\")\n",
    "\n",
    "print(f\"RDF saved to: {rdf_file_path}\")"
   ]
  }
 ],
 "metadata": {
  "kernelspec": {
   "display_name": "base",
   "language": "python",
   "name": "python3"
  },
  "language_info": {
   "codemirror_mode": {
    "name": "ipython",
    "version": 3
   },
   "file_extension": ".py",
   "mimetype": "text/x-python",
   "name": "python",
   "nbconvert_exporter": "python",
   "pygments_lexer": "ipython3",
   "version": "3.11.5"
  }
 },
 "nbformat": 4,
 "nbformat_minor": 5
}
