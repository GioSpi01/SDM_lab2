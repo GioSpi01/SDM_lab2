{
 "cells": [
  {
   "cell_type": "code",
   "execution_count": 25,
   "metadata": {},
   "outputs": [],
   "source": [
    "from rdflib import Graph, Namespace, RDF, RDFS, XSD, Literal\n",
    "import os\n",
    "\n",
    "# Create a Graph\n",
    "EX = Namespace(\"http://example.org/research_paper/\")\n",
    "\n",
    "# Create a graph\n",
    "g = Graph()\n",
    "\n",
    "# Bind common prefixes (for readability)\n",
    "g.bind(\"ex\", EX)\n",
    "g.bind(\"rdfs\", RDFS)\n",
    "g.bind(\"rdf\", RDF)\n",
    "g.bind(\"xsd\", XSD)"
   ]
  },
  {
   "cell_type": "code",
   "execution_count": 26,
   "id": "a4535d1b",
   "metadata": {},
   "outputs": [],
   "source": [
    "def create_property(g, namespace, property_name, domain, range_):\n",
    "    g.add((namespace[property_name], RDF.type, RDF.Property))\n",
    "    g.add((namespace[property_name], RDFS.label, Literal(property_name.replace(\"_\", \" \"), lang=\"en\")))\n",
    "    g.add((namespace[property_name], RDFS.domain, namespace[domain]))\n",
    "    if range_ != \"string\" and range_ != \"date\":\n",
    "        g.add((namespace[property_name], RDFS.range, namespace[range_]))\n",
    "    else:\n",
    "        if range_ == \"date\":\n",
    "            g.add((namespace[property_name], RDFS.range, XSD.date))\n",
    "        elif range_ == \"string\":\n",
    "            g.add((namespace[property_name], RDFS.range, XSD.string))\n",
    "\n",
    "\n",
    "def create_class(g, namespace, class_name, label=None):\n",
    "    g.add((namespace[class_name], RDF.type, RDFS.Class))\n",
    "    if label:\n",
    "        g.add((namespace[class_name], RDFS.label, Literal(label, lang=\"en\")))\n",
    "    else:\n",
    "        g.add((namespace[class_name], RDFS.label, Literal(class_name.replace(\"_\", \" \"), lang=\"en\")))\n",
    "\n",
    "def create_subclass(g, namespace, subclass, superclass):\n",
    "    g.add((namespace[subclass], RDFS.subClassOf, namespace[superclass]))\n"
   ]
  },
  {
   "cell_type": "code",
   "execution_count": 27,
   "id": "137c6d0f",
   "metadata": {},
   "outputs": [
    {
     "name": "stdout",
     "output_type": "stream",
     "text": [
      "Initial TBOX size: 0 triples.\n"
     ]
    }
   ],
   "source": [
    "print(f\"Initial TBOX size: {len(g)} triples.\")"
   ]
  },
  {
   "cell_type": "markdown",
   "id": "955a3343",
   "metadata": {},
   "source": [
    "# Define Classes"
   ]
  },
  {
   "cell_type": "code",
   "execution_count": 28,
   "id": "f678c392",
   "metadata": {},
   "outputs": [],
   "source": [
    "# Top Class\n",
    "create_class(g, EX, \"ResearchEntity\")\n",
    "\n",
    "# Core Classes\n",
    "create_class(g, EX, \"Paper\")\n",
    "create_class(g, EX, \"Author\")\n",
    "create_class(g, EX, \"Topic\", label=\"Research Topic\")\n",
    "create_class(g, EX, \"Review\")\n",
    "create_class(g, EX, \"Publication\", label=\"Publication Venue\")\n",
    "create_class(g, EX, \"Journal\")\n",
    "create_class(g, EX, \"Conference\")\n",
    "create_class(g, EX, \"Proceeding\", label=\"Conference Proceedings\")\n",
    "create_class(g, EX, \"ConferenceEdition\", label=\"Conference Edition\")\n",
    "create_class(g, EX, \"JournalVolume\", label=\"Journal Volume\")\n",
    "\n",
    "# Role Classes\n",
    "create_class(g, EX, \"Owner\", label=\"Corresponding Author\")\n",
    "create_class(g, EX, \"Reviewer\")\n",
    "create_class(g, EX, \"ConferenceChair\", label=\"Conference Chair\")\n",
    "create_class(g, EX, \"JournalEditor\", label=\"Journal Editor\")"
   ]
  },
  {
   "cell_type": "markdown",
   "id": "48969488",
   "metadata": {},
   "source": [
    "# Define Subclasses"
   ]
  },
  {
   "cell_type": "code",
   "execution_count": 29,
   "id": "9934d1a8",
   "metadata": {},
   "outputs": [],
   "source": [
    "# Author Roles\n",
    "create_subclass(g, EX, \"Owner\", \"Author\")\n",
    "create_subclass(g, EX, \"Reviewer\", \"Author\")\n",
    "create_subclass(g, EX, \"ConferenceChair\", \"Author\")\n",
    "create_subclass(g, EX, \"JournalEditor\", \"Author\")\n",
    "\n",
    "# Publication Types\n",
    "create_subclass(g, EX, \"ConferenceEdition\", \"Publication\")\n",
    "create_subclass(g, EX, \"JournalVolume\", \"Publication\")\n",
    "create_subclass(g, EX, \"Proceeding\", \"Publication\")\n",
    "\n",
    "create_subclass(g, EX, \"Paper\", \"ResearchEntity\")\n",
    "create_subclass(g, EX, \"Author\", \"ResearchEntity\")\n",
    "create_subclass(g, EX, \"Topic\", \"ResearchEntity\")\n",
    "create_subclass(g, EX, \"Conference\", \"ResearchEntity\")\n",
    "create_subclass(g, EX, \"Journal\", \"ResearchEntity\")\n",
    "create_subclass(g, EX, \"Publication\", \"ResearchEntity\")\n"
   ]
  },
  {
   "cell_type": "markdown",
   "id": "e11ec30b",
   "metadata": {},
   "source": [
    "# Define Properties"
   ]
  },
  {
   "cell_type": "code",
   "execution_count": 30,
   "id": "61cc12e6",
   "metadata": {},
   "outputs": [
    {
     "name": "stdout",
     "output_type": "stream",
     "text": [
      "Finished TBOX generation. Total triples in TBOX: 127.\n"
     ]
    }
   ],
   "source": [
    "# General Properties\n",
    "create_property(g, EX, \"has_name\", \"ResearchEntity\", \"string\")\n",
    "\n",
    "# Paper properties\n",
    "create_property(g, EX, \"has_title\", \"Paper\", \"string\")\n",
    "create_property(g, EX, \"written_by\", \"Paper\", \"Author\")\n",
    "create_property(g, EX, \"cites\", \"Paper\", \"Paper\")\n",
    "create_property(g, EX, \"has_abstract\", \"Paper\", \"string\")\n",
    "create_property(g, EX, \"has_topic\", \"Paper\", \"Topic\")\n",
    "create_property(g, EX, \"corresponds_to_author\", \"Paper\", \"Owner\")\n",
    "create_property(g, EX, \"has_review\", \"Paper\", \"Review\")\n",
    "create_property(g, EX, \"published_in\", \"Paper\", \"Publication\")\n",
    "create_property(g, EX, \"presented_in_proceedings\", \"Paper\", \"Proceeding\")\n",
    "\n",
    "# Review properties\n",
    "create_property(g, EX, \"noted_by_reviewer\", \"Review\", \"Reviewer\")\n",
    "create_property(g, EX, \"has_content\", \"Review\", \"string\")\n",
    "create_property(g, EX, \"review_assigned_by\", \"Review\", \"Author\") # will be Chair or Editor\n",
    "# create_property(g, EX, \"review_assigned_by_chair\", \"Review\", \"Chair\")\n",
    "# create_property(g, EX, \"review_assigned_by_editor\", \"Review\", \"Editor\")\n",
    "\n",
    "# Journal and Volume properties\n",
    "create_property(g, EX, \"has_publication_year\", \"JournalVolume\", \"string\")\n",
    "create_property(g, EX, \"is_volume_of\", \"JournalVolume\", \"Journal\")\n",
    "\n",
    "# Conference and Edition properties\n",
    "create_property(g, EX, \"has_proceedings_record\", \"ConferenceEdition\", \"Proceeding\")\n",
    "create_property(g, EX, \"held_in_date\", \"ConferenceEdition\", \"string\")\n",
    "create_property(g, EX, \"held_in_city\", \"ConferenceEdition\", \"string\")\n",
    "create_property(g, EX, \"is_edition_of\", \"ConferenceEdition\", \"Conference\")\n",
    "\n",
    "# Roles and Assignments\n",
    "create_property(g, EX, \"has_chair\", \"Conference\", \"ConferenceChair\")\n",
    "create_property(g, EX, \"has_editor\", \"Journal\", \"JournalEditor\")\n",
    "\n",
    "print(f\"Finished TBOX generation. Total triples in TBOX: {len(g)}.\")\n"
   ]
  },
  {
   "cell_type": "code",
   "execution_count": 31,
   "id": "f05d2a88",
   "metadata": {},
   "outputs": [],
   "source": [
    "# # Restriction: Paper must have exactly one corresponding author\n",
    "# restriction1 = BNode()\n",
    "# g.add((EX.Paper, OWL.equivalentClass, restriction1))\n",
    "# g.add((restriction1, RDF.type, OWL.Restriction))\n",
    "# g.add((restriction1, OWL.onProperty, EX.corresponds_to))\n",
    "# g.add((restriction1, OWL.qualifiedCardinality, Literal(1, datatype=XSD.nonNegativeInteger)))\n",
    "# g.add((restriction1, OWL.onClass, EX.Author))\n",
    "\n",
    "# # Restriction: Paper must have exactly three reviews\n",
    "# restriction2 = BNode()\n",
    "# g.add((EX.Paper, OWL.equivalentClass, restriction2))\n",
    "# g.add((restriction2, RDF.type, OWL.Restriction))\n",
    "# g.add((restriction2, OWL.onProperty, EX.has_review))\n",
    "# g.add((restriction2, OWL.qualifiedCardinality, Literal(3, datatype=XSD.nonNegativeInteger)))\n",
    "# g.add((restriction2, OWL.onClass, EX.Review))"
   ]
  },
  {
   "cell_type": "code",
   "execution_count": 32,
   "id": "33ba03e1",
   "metadata": {},
   "outputs": [
    {
     "name": "stdout",
     "output_type": "stream",
     "text": [
      "RDF saved to: c:\\Users\\usuario\\Desktop\\FIB\\Ciència de Dades\\2n Quadrimestre\\SDM\\Project\\Knowledge Graph\\SDM_lab2\\12_B.1_SpissoYao_tbox.ttl\n"
     ]
    }
   ],
   "source": [
    "# Use current working directory instead of script path\n",
    "script_dir = os.getcwd()  # Works in Jupyter\n",
    "rdf_file_path = os.path.join(script_dir, \"12_B.1_SpissoYao_tbox.ttl\")\n",
    "\n",
    "# Save the graph\n",
    "g.serialize(destination=rdf_file_path, format=\"turtle\")\n",
    "\n",
    "print(f\"RDF saved to: {rdf_file_path}\")"
   ]
  }
 ],
 "metadata": {
  "kernelspec": {
   "display_name": "Python 3",
   "language": "python",
   "name": "python3"
  },
  "language_info": {
   "codemirror_mode": {
    "name": "ipython",
    "version": 3
   },
   "file_extension": ".py",
   "mimetype": "text/x-python",
   "name": "python",
   "nbconvert_exporter": "python",
   "pygments_lexer": "ipython3",
   "version": "3.11.0"
  }
 },
 "nbformat": 4,
 "nbformat_minor": 5
}
