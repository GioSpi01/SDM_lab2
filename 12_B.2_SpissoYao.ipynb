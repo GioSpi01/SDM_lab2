{
 "cells": [
  {
   "cell_type": "code",
   "execution_count": 127,
   "id": "747fbc0e",
   "metadata": {},
   "outputs": [],
   "source": [
    "import pandas as pd\n",
    "from rdflib import Graph, Namespace, RDF, RDFS, XSD, URIRef, Literal\n",
    "import json\n",
    "import numpy as np\n",
    "import ast\n",
    "import urllib.parse\n",
    "import os\n",
    "\n",
    "pd.set_option('display.max_columns', None)\n",
    "\n",
    "tbox = Graph()\n",
    "tbox.parse(\"tbox.ttl\", format=\"turtle\")  # or 'xml', 'n3', etc.\n",
    "\n",
    "EX = Namespace(\"http://example.org/research_paper/\")\n",
    "\n",
    "reseach_paper = pd.read_csv(\"research_papers.csv\")\n"
   ]
  },
  {
   "cell_type": "code",
   "execution_count": 128,
   "id": "63ad8ad7",
   "metadata": {},
   "outputs": [
    {
     "name": "stdout",
     "output_type": "stream",
     "text": [
      "Classes in TBox:\n",
      "  http://example.org/research_paper/Journal\n",
      "  http://example.org/research_paper/Conference\n",
      "  http://example.org/research_paper/Edition\n",
      "  http://example.org/research_paper/Paper\n",
      "  http://example.org/research_paper/Review\n",
      "  http://example.org/research_paper/Reviewer\n",
      "  http://example.org/research_paper/Volume\n",
      "  http://example.org/research_paper/Topic\n",
      "  http://example.org/research_paper/Owner\n",
      "  http://example.org/research_paper/Author\n",
      "  http://example.org/research_paper/Publication\n",
      "Properties in TBox and their domains/ranges:\n",
      "  http://example.org/research_paper/cites domain=http://example.org/research_paper/Paper range=http://example.org/research_paper/Paper\n",
      "  http://example.org/research_paper/corresponds_to domain=http://example.org/research_paper/Paper range=http://example.org/research_paper/Owner\n",
      "  http://example.org/research_paper/has_abstract domain=http://example.org/research_paper/Paper range=http://www.w3.org/2001/XMLSchema#string\n",
      "  http://example.org/research_paper/has_date_edition domain=http://example.org/research_paper/Edition range=http://www.w3.org/2001/XMLSchema#string\n",
      "  http://example.org/research_paper/has_date_volume domain=http://example.org/research_paper/Volume range=http://www.w3.org/2001/XMLSchema#string\n",
      "  http://example.org/research_paper/has_edition domain=http://example.org/research_paper/Conference range=http://example.org/research_paper/Edition\n",
      "  http://example.org/research_paper/has_location domain=http://example.org/research_paper/Edition range=http://www.w3.org/2001/XMLSchema#string\n",
      "  http://example.org/research_paper/has_review domain=http://example.org/research_paper/Paper range=http://example.org/research_paper/Review\n",
      "  http://example.org/research_paper/has_title domain=http://example.org/research_paper/Paper range=http://www.w3.org/2001/XMLSchema#string\n",
      "  http://example.org/research_paper/has_volume domain=http://example.org/research_paper/Journal range=http://example.org/research_paper/Volume\n",
      "  http://example.org/research_paper/note domain=http://example.org/research_paper/Reviewer range=http://example.org/research_paper/Review\n",
      "  http://example.org/research_paper/published_in domain=http://example.org/research_paper/Paper range=http://example.org/research_paper/Publication\n",
      "  http://example.org/research_paper/related_to domain=http://example.org/research_paper/Paper range=http://example.org/research_paper/Topic\n",
      "  http://example.org/research_paper/written_by domain=http://example.org/research_paper/Paper range=http://example.org/research_paper/Author\n",
      "Subclasses in TBox:\n",
      "  http://example.org/research_paper/Author subclasses=[rdflib.term.URIRef('http://example.org/research_paper/Owner'), rdflib.term.URIRef('http://example.org/research_paper/Reviewer')]\n",
      "  http://example.org/research_paper/Publication subclasses=[rdflib.term.URIRef('http://example.org/research_paper/Conference'), rdflib.term.URIRef('http://example.org/research_paper/Journal')]\n"
     ]
    }
   ],
   "source": [
    "classes = set(tbox.subjects(RDF.type, RDFS.Class))\n",
    "\n",
    "properties = {}\n",
    "for prop in tbox.subjects(RDF.type, RDF.Property):\n",
    "    domain = tbox.value(prop, RDFS.domain)\n",
    "    range_ = tbox.value(prop, RDFS.range)\n",
    "    properties[prop] = (domain, range_)\n",
    "\n",
    "\n",
    "print(\"Classes in TBox:\")\n",
    "for c in classes:\n",
    "    print(f\"  {c}\")\n",
    "\n",
    "print(\"Properties in TBox and their domains/ranges:\")\n",
    "for p, (d, r) in properties.items():\n",
    "    print(f\"  {p} domain={d} range={r}\")\n",
    "\n",
    "print(\"Subclasses in TBox:\")\n",
    "for c in classes:\n",
    "    subclasses = list(tbox.subjects(predicate=RDFS.subClassOf, object=c))\n",
    "    if subclasses:\n",
    "        print(f\"  {c} subclasses={subclasses}\")"
   ]
  },
  {
   "cell_type": "code",
   "execution_count": 129,
   "id": "714ec27c",
   "metadata": {},
   "outputs": [],
   "source": [
    "abox = Graph()\n",
    "abox.bind(\"ex\", EX)\n",
    "abox.bind(\"rdf\", RDF)\n",
    "abox.bind(\"rdfs\", RDFS)"
   ]
  },
  {
   "cell_type": "code",
   "execution_count": 130,
   "id": "7372bbf2",
   "metadata": {},
   "outputs": [],
   "source": [
    "def urlib_parse(value):\n",
    "    return urllib.parse.quote(value, safe='')"
   ]
  },
  {
   "cell_type": "code",
   "execution_count": 131,
   "id": "648fee25",
   "metadata": {},
   "outputs": [],
   "source": [
    "# Function to create a class instance with a label\n",
    "def create_class_instance(graph, namespace, instance_label, class_name, instance_uri_value=None):\n",
    "    if instance_uri_value:\n",
    "        instance_uri = URIRef(namespace[urlib_parse(instance_uri_value)])\n",
    "    else:\n",
    "        instance_uri = URIRef(namespace[urlib_parse(instance_label)])\n",
    "    \n",
    "    graph.add((instance_uri, RDF.type, namespace[class_name]))\n",
    "    graph.add((instance_uri, RDFS.label, Literal(instance_label, datatype=XSD.string)))"
   ]
  },
  {
   "cell_type": "code",
   "execution_count": 132,
   "id": "b08f3bbb",
   "metadata": {},
   "outputs": [],
   "source": [
    "# Function to create a label for an instance\n",
    "def create_instance_label(graph, namespace, instance_label, class_name, instance_uri_value=None):\n",
    "    if instance_uri_value:\n",
    "        instance_uri = URIRef(namespace[urlib_parse(instance_uri_value)])\n",
    "    else:\n",
    "        instance_uri = URIRef(namespace[urlib_parse(instance_label)])\n",
    "    \n",
    "    graph.add((instance_uri, RDFS.label, Literal(instance_label, datatype=XSD.string)))"
   ]
  },
  {
   "cell_type": "code",
   "execution_count": 133,
   "id": "dd7fd164",
   "metadata": {},
   "outputs": [],
   "source": [
    "def create_property_instance(graph, namespace, subject_uri_value, property_name, object_value, is_literal=False):\n",
    "    subject_uri = URIRef(namespace[urlib_parse(subject_uri_value)])\n",
    "    predicate = namespace[property_name]\n",
    "\n",
    "    if is_literal:\n",
    "        graph.add((subject_uri, predicate, Literal(object_value, datatype=XSD.string)))\n",
    "    else:\n",
    "        object_uri = URIRef(namespace[urlib_parse(object_value)])\n",
    "        graph.add((subject_uri, predicate, object_uri))"
   ]
  },
  {
   "cell_type": "code",
   "execution_count": 134,
   "id": "2d3bd5fb",
   "metadata": {},
   "outputs": [],
   "source": [
    "owners_set = set(reseach_paper['author'].dropna().unique())\n",
    "\n",
    "reviewers_set = set()\n",
    "for reviewers_list_str in reseach_paper['reviewers'].dropna():\n",
    "    try:\n",
    "        reviewers_list = ast.literal_eval(reviewers_list_str)\n",
    "        if isinstance(reviewers_list, list):\n",
    "            reviewers_set.update(reviewers_list)\n",
    "    except (ValueError, SyntaxError):\n",
    "        # Handle cases where ast.literal_eval might fail if the string is not a valid list literal\n",
    "        print(f\"Warning: Could not parse reviewers list: {reviewers_list_str}\")"
   ]
  },
  {
   "cell_type": "code",
   "execution_count": 135,
   "id": "7202e7ef",
   "metadata": {},
   "outputs": [],
   "source": [
    "global_review_id_counter = 0"
   ]
  },
  {
   "cell_type": "code",
   "execution_count": null,
   "id": "b9613af1",
   "metadata": {},
   "outputs": [
    {
     "name": "stdout",
     "output_type": "stream",
     "text": [
      "Initial ABOX size: 0 triples.\n",
      "Finished ABOX generation. Total triples in abox: 16312\n"
     ]
    }
   ],
   "source": [
    "print(f\"Initial ABOX size: {len(abox)} triples.\")\n",
    "\n",
    "for index, row in reseach_paper.iterrows():\n",
    "    if pd.notna(row['published_paper']) and row['published_paper']:\n",
    "        paper_id = row['id']\n",
    "        paper_title = row['title']\n",
    "        abstract = str(row.get('abstract', ''))\n",
    "\n",
    "        try:\n",
    "            authors_list = ast.literal_eval(row['authors']) if pd.notna(row['authors']) else []\n",
    "            references_list = ast.literal_eval(row['references']) if pd.notna(row['references']) else []\n",
    "            topics_list = ast.literal_eval(row['topic']) if pd.notna(row['topic']) else []\n",
    "            reviewers_list = ast.literal_eval(row['reviewers']) if pd.notna(row['reviewers']) else []\n",
    "            reviews_list = ast.literal_eval(row['reviews']) if pd.notna(row['reviews']) else []\n",
    "\n",
    "        except (ValueError, SyntaxError) as e:\n",
    "            print(f\"Error parsing list data for paper {paper_id}: {e}. Skipping this paper.\")\n",
    "            continue\n",
    "\n",
    "        paper_owner_name = row['author']\n",
    "        \n",
    "        isJournal = pd.notna(row['journal'])\n",
    "        if isJournal:\n",
    "            journal_name = row['journal']\n",
    "            journal_volume_id = urlib_parse(journal_name) + \"_\" + \"volume_\" + str(row['journal_volume'])\n",
    "            journal_volume_label = str(row['journal_volume'])\n",
    "            publication_year = str(row['journal_year'])\n",
    "        else:\n",
    "            conference_name = row['conference']\n",
    "            conference_city = row['conference_city']\n",
    "            publication_year = str(row['conference_year'])\n",
    "            conference_edition_id = urlib_parse(conference_name) + \"_\" + \"edition_\" + str(row['conference_edition'])\n",
    "            conference_edition_label = str(row['conference_edition'])\n",
    "\n",
    "        # Define Class instances\n",
    "        create_instance_label(abox, EX, paper_id, \"Paper\")\n",
    "        create_instance_label(abox, EX, paper_owner_name, \"Owner\")\n",
    "\n",
    "        for author in authors_list:\n",
    "            author_name = str(author)\n",
    "            is_owner = author_name in owners_set\n",
    "            is_reviewer = author_name in reviewers_set\n",
    "\n",
    "            if is_owner:\n",
    "                create_instance_label(abox, EX, author_name, \"Owner\")\n",
    "            if is_reviewer:\n",
    "                create_instance_label(abox, EX, author_name, \"Reviewer\")\n",
    "            if not is_owner and not is_reviewer:\n",
    "                create_instance_label(abox, EX, author_name, \"Author\")\n",
    "        \n",
    "        for reviewer in reviewers_list:\n",
    "            reviewer_name = str(reviewer)\n",
    "            create_instance_label(abox, EX, reviewer_name,  \"Reviewer\")\n",
    "        \n",
    "        current_paper_review_instance_ids = []\n",
    "        if len(reviewers_list) == len(reviews_list):\n",
    "            for i in range(len(reviews_list)):\n",
    "                review_text = reviews_list[i]\n",
    "                review_instance_id = f'REVIEW_{global_review_id_counter + i + 1}'\n",
    "                current_paper_review_instance_ids.append(review_instance_id)\n",
    "                create_instance_label(abox, EX, review_text, \"Review\", review_instance_id)\n",
    "        else:\n",
    "            print(f\"Warning: the length of reviewers and reviews are not equal\")\n",
    "            break\n",
    "\n",
    "        for topic in topics_list:\n",
    "            topic_name = str(topic)\n",
    "            create_instance_label(abox, EX, topic_name, \"Topic\")\n",
    "        \n",
    "        for cited_paper in references_list:\n",
    "            cited_paper_id = str(cited_paper)\n",
    "            create_instance_label(abox, EX, cited_paper_id, \"Paper\")\n",
    "\n",
    "        if isJournal:\n",
    "            create_instance_label(abox, EX, journal_name, \"Journal\")\n",
    "            create_instance_label(abox, EX, journal_volume_label, \"Volume\", journal_volume_id)\n",
    "        else:\n",
    "            create_instance_label(abox, EX, conference_name, \"Conference\")\n",
    "            create_instance_label(abox, EX, conference_edition_label, \"Edition\", conference_edition_id)\n",
    "        \n",
    "        # Create Property instances\n",
    "        create_property_instance(abox, EX, paper_id, \"has_title\", paper_title, is_literal=True)\n",
    "        create_property_instance(abox, EX, paper_id, \"has_abstract\", abstract, is_literal=True)\n",
    "        create_property_instance(abox, EX, paper_id, \"corresponds_to\", paper_owner_name)\n",
    "\n",
    "        for topic in topics_list:\n",
    "            create_property_instance(abox, EX, paper_id, \"related_to\", str(topic))\n",
    "\n",
    "        for cited_paper_id in references_list:\n",
    "            create_property_instance(abox, EX, paper_id, \"cites\", str(cited_paper_id))\n",
    "        \n",
    "        for author in authors_list:\n",
    "            create_property_instance(abox, EX, paper_id, \"written_by\", str(author))\n",
    "\n",
    "        for i in range(len(reviewers_list)):\n",
    "            review_instance_id = current_paper_review_instance_ids[i]\n",
    "            reviewer_name = str(reviewers_list[i])\n",
    "            create_property_instance(abox, EX, paper_id, \"has_review\", review_instance_id)\n",
    "            create_property_instance(abox, EX, reviewer_name, \"note\", review_instance_id)\n",
    "\n",
    "        global_review_id_counter += len(current_paper_review_instance_ids)\n",
    "\n",
    "        if isJournal:\n",
    "            create_property_instance(abox, EX, paper_id, \"published_in\", journal_name)\n",
    "            create_property_instance(abox, EX, journal_name, \"has_volume\", journal_volume_id)\n",
    "            create_property_instance(abox, EX, journal_volume_id, \"has_date_volume\", publication_year, is_literal=True)\n",
    "        else:\n",
    "            create_property_instance(abox, EX, paper_id, \"published_in\", conference_name)\n",
    "            create_property_instance(abox, EX, conference_name, \"has_edition\", conference_edition_id)\n",
    "            create_property_instance(abox, EX, conference_edition_id, \"has_date_edition\", publication_year, is_literal=True)\n",
    "            create_property_instance(abox, EX, conference_edition_id, \"has_location\", conference_city, is_literal=True)\n",
    "\n",
    "\n",
    "print(f\"Finished ABOX generation. Total triples in abox: {len(abox)}\")"
   ]
  },
  {
   "cell_type": "code",
   "execution_count": 137,
   "id": "8fd4d994",
   "metadata": {},
   "outputs": [
    {
     "name": "stdout",
     "output_type": "stream",
     "text": [
      "RDF saved to: c:\\Users\\usuario\\Desktop\\FIB\\Ciència de Dades\\2n Quadrimestre\\SDM\\Project\\Knowledge Graph\\SDM_lab2\\abox.ttl\n"
     ]
    }
   ],
   "source": [
    "# Use current working directory instead of script path\n",
    "script_dir = os.getcwd()  # Works in Jupyter\n",
    "rdf_file_path = os.path.join(script_dir, \"abox.ttl\")\n",
    "\n",
    "# Save the graph\n",
    "abox.serialize(destination=rdf_file_path, format=\"turtle\")\n",
    "\n",
    "print(f\"RDF saved to: {rdf_file_path}\")"
   ]
  },
  {
   "cell_type": "code",
   "execution_count": 138,
   "id": "6a9adcfb",
   "metadata": {},
   "outputs": [],
   "source": [
    "# from owlrl import DeductiveClosure, OWLRL_Semantics\n",
    "\n",
    "# g = Graph()\n",
    "# g.parse(\"tbox.ttl\", format=\"turtle\")\n",
    "# g.parse(\"abox.ttl\", format=\"turtle\")\n",
    "\n",
    "# DeductiveClosure(OWLRL_Semantics).expand(g)\n",
    "# print(len(g))"
   ]
  },
  {
   "cell_type": "code",
   "execution_count": 139,
   "id": "d1b63fbd",
   "metadata": {},
   "outputs": [
    {
     "name": "stdout",
     "output_type": "stream",
     "text": [
      "Total number of triples (explicit + inference): 22795\n"
     ]
    }
   ],
   "source": [
    "from owlrl import RDFSClosure\n",
    "\n",
    "g1 = Graph()\n",
    "g1.parse('tbox.ttl', format=\"turtle\")\n",
    "g1.parse('abox.ttl', format=\"turtle\")\n",
    "\n",
    "# RDFS_Sematics(graph, axioms, daxioms, rdfs)\n",
    "# - graph -> The RDF Graph (TBOX + ABOX)\n",
    "# - axioms -> Add axiomatic triples (e.g., that rdf:type is a property, or that rdfs:subClassOf has domain rdfs:Class)\n",
    "# - daxioms -> Add datatype axioms (xsd:string rdf:type rdfs:Datatype)\n",
    "# - rdfs -> RDFS reasoning rules\n",
    "rdfs_reasoner = RDFSClosure.RDFS_Semantics(g1, axioms=False, daxioms=False, rdfs=True)\n",
    "rdfs_reasoner.closure()\n",
    "rdfs_reasoner.flush_stored_triples()\n",
    "print(f'Total number of triples (explicit + inference): {len(g1)}')"
   ]
  },
  {
   "cell_type": "code",
   "execution_count": 140,
   "id": "885cd08d",
   "metadata": {},
   "outputs": [],
   "source": [
    "# diff1 = g  - g1\n",
    "# for s,p,o in diff1:\n",
    "#     print(s,p,o)"
   ]
  },
  {
   "cell_type": "code",
   "execution_count": 141,
   "id": "01074860",
   "metadata": {},
   "outputs": [
    {
     "name": "stdout",
     "output_type": "stream",
     "text": [
      "http://example.org/research_paper/Warren%20J.%20Warwick http://www.w3.org/2000/01/rdf-schema#label Warren J. Warwick\n",
      "http://example.org/research_paper/Warren%20J.%20Warwick http://example.org/research_paper/note http://example.org/research_paper/REVIEW_454\n",
      "http://example.org/research_paper/Warren%20J.%20Warwick http://www.w3.org/1999/02/22-rdf-syntax-ns#type http://example.org/research_paper/Author\n",
      "http://example.org/research_paper/Warren%20J.%20Warwick http://www.w3.org/1999/02/22-rdf-syntax-ns#type http://www.w3.org/2000/01/rdf-schema#Resource\n",
      "http://example.org/research_paper/Warren%20J.%20Warwick http://www.w3.org/1999/02/22-rdf-syntax-ns#type http://example.org/research_paper/Reviewer\n"
     ]
    }
   ],
   "source": [
    "# Check Inference Constraint\n",
    "author_uri = URIRef(\"http://example.org/research_paper/Warren%20J.%20Warwick\")\n",
    "\n",
    "for s, p, o in g1.triples((author_uri, None, None)):\n",
    "    print(s, p, o)\n"
   ]
  },
  {
   "cell_type": "code",
   "execution_count": 142,
   "id": "c12e1d57",
   "metadata": {},
   "outputs": [
    {
     "name": "stdout",
     "output_type": "stream",
     "text": [
      "RDF saved to: c:\\Users\\usuario\\Desktop\\FIB\\Ciència de Dades\\2n Quadrimestre\\SDM\\Project\\Knowledge Graph\\SDM_lab2\\tbox_abox.ttl\n"
     ]
    }
   ],
   "source": [
    "rdf_file_path = os.path.join(script_dir, \"tbox_abox.ttl\")\n",
    "\n",
    "# Save the graph\n",
    "abox.serialize(destination=rdf_file_path, format=\"turtle\")\n",
    "\n",
    "print(f\"RDF saved to: {rdf_file_path}\")"
   ]
  }
 ],
 "metadata": {
  "kernelspec": {
   "display_name": "Python 3",
   "language": "python",
   "name": "python3"
  },
  "language_info": {
   "codemirror_mode": {
    "name": "ipython",
    "version": 3
   },
   "file_extension": ".py",
   "mimetype": "text/x-python",
   "name": "python",
   "nbconvert_exporter": "python",
   "pygments_lexer": "ipython3",
   "version": "3.11.0"
  }
 },
 "nbformat": 4,
 "nbformat_minor": 5
}
