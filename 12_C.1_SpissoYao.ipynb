from pykeen.pipeline import pipeline
result = pipeline(
    model='TransE',
    dataset='Nations',
)