{
 "cells": [
  {
   "cell_type": "code",
   "execution_count": 7,
   "id": "982f8407",
   "metadata": {},
   "outputs": [],
   "source": [
    "import torch\n",
    "import pykeen\n",
    "import pandas as pd\n",
    "from pykeen import predict\n",
    "from pykeen.pipeline import pipeline\n",
    "from pykeen.triples import TriplesFactory\n",
    "import numpy as np\n",
    "\n",
    "file_path = 'C.2_query.tsv'"
   ]
  },
  {
   "cell_type": "code",
   "execution_count": 8,
   "id": "f6dc10b4",
   "metadata": {},
   "outputs": [
    {
     "name": "stderr",
     "output_type": "stream",
     "text": [
      "INFO:pykeen.triples.splitting:done splitting triples to groups of sizes [10531, 2881]\n"
     ]
    }
   ],
   "source": [
    "tf = TriplesFactory.from_path(file_path, delimiter=\"\\t\")\n",
    "training, testing = tf.split([0.8, 0.2], random_state=2025)"
   ]
  },
  {
   "cell_type": "markdown",
   "id": "d704a726",
   "metadata": {},
   "source": [
    "## The Most Basic Model"
   ]
  },
  {
   "cell_type": "code",
   "execution_count": 14,
   "id": "f9de075f",
   "metadata": {},
   "outputs": [
    {
     "name": "stderr",
     "output_type": "stream",
     "text": [
      "INFO:pykeen.pipeline.api:Using device: cuda\n",
      "INFO:pykeen.nn.representation:Inferred unique=False for Embedding()\n",
      "INFO:pykeen.nn.representation:Inferred unique=False for Embedding()\n"
     ]
    },
    {
     "data": {
      "application/vnd.jupyter.widget-view+json": {
       "model_id": "240897559cea423ebec6c5dcbbbb9b76",
       "version_major": 2,
       "version_minor": 0
      },
      "text/plain": [
       "Training epochs on cuda:0:   0%|          | 0/50 [00:00<?, ?epoch/s]"
      ]
     },
     "metadata": {},
     "output_type": "display_data"
    },
    {
     "data": {
      "application/vnd.jupyter.widget-view+json": {
       "model_id": "c0fe06810d6c4ecf9fb63f33740443dd",
       "version_major": 2,
       "version_minor": 0
      },
      "text/plain": [
       "Training batches on cuda:0:   0%|          | 0.00/46.0 [00:00<?, ?batch/s]"
      ]
     },
     "metadata": {},
     "output_type": "display_data"
    },
    {
     "data": {
      "application/vnd.jupyter.widget-view+json": {
       "model_id": "a79bc430640f40498b43faf4e061200a",
       "version_major": 2,
       "version_minor": 0
      },
      "text/plain": [
       "Training batches on cuda:0:   0%|          | 0.00/46.0 [00:00<?, ?batch/s]"
      ]
     },
     "metadata": {},
     "output_type": "display_data"
    },
    {
     "data": {
      "application/vnd.jupyter.widget-view+json": {
       "model_id": "febf47d2b4434b92bfd320d9edaac549",
       "version_major": 2,
       "version_minor": 0
      },
      "text/plain": [
       "Training batches on cuda:0:   0%|          | 0.00/46.0 [00:00<?, ?batch/s]"
      ]
     },
     "metadata": {},
     "output_type": "display_data"
    },
    {
     "data": {
      "application/vnd.jupyter.widget-view+json": {
       "model_id": "a9b78e76250f400384c1119862c125b7",
       "version_major": 2,
       "version_minor": 0
      },
      "text/plain": [
       "Training batches on cuda:0:   0%|          | 0.00/46.0 [00:00<?, ?batch/s]"
      ]
     },
     "metadata": {},
     "output_type": "display_data"
    },
    {
     "data": {
      "application/vnd.jupyter.widget-view+json": {
       "model_id": "419a22ac40dc449c91cbb68907c93b38",
       "version_major": 2,
       "version_minor": 0
      },
      "text/plain": [
       "Training batches on cuda:0:   0%|          | 0.00/46.0 [00:00<?, ?batch/s]"
      ]
     },
     "metadata": {},
     "output_type": "display_data"
    },
    {
     "data": {
      "application/vnd.jupyter.widget-view+json": {
       "model_id": "abc7d97eebf94bc3a085a656f56eaef6",
       "version_major": 2,
       "version_minor": 0
      },
      "text/plain": [
       "Training batches on cuda:0:   0%|          | 0.00/46.0 [00:00<?, ?batch/s]"
      ]
     },
     "metadata": {},
     "output_type": "display_data"
    },
    {
     "data": {
      "application/vnd.jupyter.widget-view+json": {
       "model_id": "f604a884e7654bf1993b298a41b6c1df",
       "version_major": 2,
       "version_minor": 0
      },
      "text/plain": [
       "Training batches on cuda:0:   0%|          | 0.00/46.0 [00:00<?, ?batch/s]"
      ]
     },
     "metadata": {},
     "output_type": "display_data"
    },
    {
     "data": {
      "application/vnd.jupyter.widget-view+json": {
       "model_id": "056c8f5f4f46474ea0082ce9c0b12d79",
       "version_major": 2,
       "version_minor": 0
      },
      "text/plain": [
       "Training batches on cuda:0:   0%|          | 0.00/46.0 [00:00<?, ?batch/s]"
      ]
     },
     "metadata": {},
     "output_type": "display_data"
    },
    {
     "data": {
      "application/vnd.jupyter.widget-view+json": {
       "model_id": "28a5b6b03f2a4b869adc639e4c4f506e",
       "version_major": 2,
       "version_minor": 0
      },
      "text/plain": [
       "Training batches on cuda:0:   0%|          | 0.00/46.0 [00:00<?, ?batch/s]"
      ]
     },
     "metadata": {},
     "output_type": "display_data"
    },
    {
     "data": {
      "application/vnd.jupyter.widget-view+json": {
       "model_id": "54a57667bc9d4e5ba24cfbcf9aa254ad",
       "version_major": 2,
       "version_minor": 0
      },
      "text/plain": [
       "Training batches on cuda:0:   0%|          | 0.00/46.0 [00:00<?, ?batch/s]"
      ]
     },
     "metadata": {},
     "output_type": "display_data"
    },
    {
     "data": {
      "application/vnd.jupyter.widget-view+json": {
       "model_id": "4fee486018494ffba86b70b39a4d13f6",
       "version_major": 2,
       "version_minor": 0
      },
      "text/plain": [
       "Training batches on cuda:0:   0%|          | 0.00/46.0 [00:00<?, ?batch/s]"
      ]
     },
     "metadata": {},
     "output_type": "display_data"
    },
    {
     "data": {
      "application/vnd.jupyter.widget-view+json": {
       "model_id": "ed7a46573f4f4513b42cd11d550861a1",
       "version_major": 2,
       "version_minor": 0
      },
      "text/plain": [
       "Training batches on cuda:0:   0%|          | 0.00/46.0 [00:00<?, ?batch/s]"
      ]
     },
     "metadata": {},
     "output_type": "display_data"
    },
    {
     "data": {
      "application/vnd.jupyter.widget-view+json": {
       "model_id": "138b076f0329436884a3f57b3e8f832a",
       "version_major": 2,
       "version_minor": 0
      },
      "text/plain": [
       "Training batches on cuda:0:   0%|          | 0.00/46.0 [00:00<?, ?batch/s]"
      ]
     },
     "metadata": {},
     "output_type": "display_data"
    },
    {
     "data": {
      "application/vnd.jupyter.widget-view+json": {
       "model_id": "85e6b8f0b7f848d890ac82b7387af843",
       "version_major": 2,
       "version_minor": 0
      },
      "text/plain": [
       "Training batches on cuda:0:   0%|          | 0.00/46.0 [00:00<?, ?batch/s]"
      ]
     },
     "metadata": {},
     "output_type": "display_data"
    },
    {
     "data": {
      "application/vnd.jupyter.widget-view+json": {
       "model_id": "ddaf2879e3414240a2179dcf3a04a014",
       "version_major": 2,
       "version_minor": 0
      },
      "text/plain": [
       "Training batches on cuda:0:   0%|          | 0.00/46.0 [00:00<?, ?batch/s]"
      ]
     },
     "metadata": {},
     "output_type": "display_data"
    },
    {
     "data": {
      "application/vnd.jupyter.widget-view+json": {
       "model_id": "3ebf954571064c6d9f561f5ec6db0e31",
       "version_major": 2,
       "version_minor": 0
      },
      "text/plain": [
       "Training batches on cuda:0:   0%|          | 0.00/46.0 [00:00<?, ?batch/s]"
      ]
     },
     "metadata": {},
     "output_type": "display_data"
    },
    {
     "data": {
      "application/vnd.jupyter.widget-view+json": {
       "model_id": "e4df25c3e5ad4629805402638dc7699d",
       "version_major": 2,
       "version_minor": 0
      },
      "text/plain": [
       "Training batches on cuda:0:   0%|          | 0.00/46.0 [00:00<?, ?batch/s]"
      ]
     },
     "metadata": {},
     "output_type": "display_data"
    },
    {
     "data": {
      "application/vnd.jupyter.widget-view+json": {
       "model_id": "fdeb607cf97c4e40a5e2c7ea60d7c433",
       "version_major": 2,
       "version_minor": 0
      },
      "text/plain": [
       "Training batches on cuda:0:   0%|          | 0.00/46.0 [00:00<?, ?batch/s]"
      ]
     },
     "metadata": {},
     "output_type": "display_data"
    },
    {
     "data": {
      "application/vnd.jupyter.widget-view+json": {
       "model_id": "dba7f7325cce4323a4c3434c7a15b6e2",
       "version_major": 2,
       "version_minor": 0
      },
      "text/plain": [
       "Training batches on cuda:0:   0%|          | 0.00/46.0 [00:00<?, ?batch/s]"
      ]
     },
     "metadata": {},
     "output_type": "display_data"
    },
    {
     "data": {
      "application/vnd.jupyter.widget-view+json": {
       "model_id": "67bbab15dc3641bfb1e810aa1b105e3b",
       "version_major": 2,
       "version_minor": 0
      },
      "text/plain": [
       "Training batches on cuda:0:   0%|          | 0.00/46.0 [00:00<?, ?batch/s]"
      ]
     },
     "metadata": {},
     "output_type": "display_data"
    },
    {
     "data": {
      "application/vnd.jupyter.widget-view+json": {
       "model_id": "584cf4fa1e784a41bf89f5ba5fc98c8f",
       "version_major": 2,
       "version_minor": 0
      },
      "text/plain": [
       "Training batches on cuda:0:   0%|          | 0.00/46.0 [00:00<?, ?batch/s]"
      ]
     },
     "metadata": {},
     "output_type": "display_data"
    },
    {
     "data": {
      "application/vnd.jupyter.widget-view+json": {
       "model_id": "6f1ef303a1584760b2dcf78acf8d7244",
       "version_major": 2,
       "version_minor": 0
      },
      "text/plain": [
       "Training batches on cuda:0:   0%|          | 0.00/46.0 [00:00<?, ?batch/s]"
      ]
     },
     "metadata": {},
     "output_type": "display_data"
    },
    {
     "data": {
      "application/vnd.jupyter.widget-view+json": {
       "model_id": "7056553438414f71b8ec90f8df916c61",
       "version_major": 2,
       "version_minor": 0
      },
      "text/plain": [
       "Training batches on cuda:0:   0%|          | 0.00/46.0 [00:00<?, ?batch/s]"
      ]
     },
     "metadata": {},
     "output_type": "display_data"
    },
    {
     "data": {
      "application/vnd.jupyter.widget-view+json": {
       "model_id": "12dea1d612c64caf83be69da7c2b2c99",
       "version_major": 2,
       "version_minor": 0
      },
      "text/plain": [
       "Training batches on cuda:0:   0%|          | 0.00/46.0 [00:00<?, ?batch/s]"
      ]
     },
     "metadata": {},
     "output_type": "display_data"
    },
    {
     "data": {
      "application/vnd.jupyter.widget-view+json": {
       "model_id": "08b2ab4f66b44d02834d1a1c8bf4b837",
       "version_major": 2,
       "version_minor": 0
      },
      "text/plain": [
       "Training batches on cuda:0:   0%|          | 0.00/46.0 [00:00<?, ?batch/s]"
      ]
     },
     "metadata": {},
     "output_type": "display_data"
    },
    {
     "data": {
      "application/vnd.jupyter.widget-view+json": {
       "model_id": "6e6eccc6580e4b6485e3d288dafe971d",
       "version_major": 2,
       "version_minor": 0
      },
      "text/plain": [
       "Training batches on cuda:0:   0%|          | 0.00/46.0 [00:00<?, ?batch/s]"
      ]
     },
     "metadata": {},
     "output_type": "display_data"
    },
    {
     "data": {
      "application/vnd.jupyter.widget-view+json": {
       "model_id": "41d0eee00b214f6e897e8f3368d93eb1",
       "version_major": 2,
       "version_minor": 0
      },
      "text/plain": [
       "Training batches on cuda:0:   0%|          | 0.00/46.0 [00:00<?, ?batch/s]"
      ]
     },
     "metadata": {},
     "output_type": "display_data"
    },
    {
     "data": {
      "application/vnd.jupyter.widget-view+json": {
       "model_id": "d7b4583d89ad4c5fbfabad7b47fbc689",
       "version_major": 2,
       "version_minor": 0
      },
      "text/plain": [
       "Training batches on cuda:0:   0%|          | 0.00/46.0 [00:00<?, ?batch/s]"
      ]
     },
     "metadata": {},
     "output_type": "display_data"
    },
    {
     "data": {
      "application/vnd.jupyter.widget-view+json": {
       "model_id": "d20737e520454005bdf2b4d4a79ef82c",
       "version_major": 2,
       "version_minor": 0
      },
      "text/plain": [
       "Training batches on cuda:0:   0%|          | 0.00/46.0 [00:00<?, ?batch/s]"
      ]
     },
     "metadata": {},
     "output_type": "display_data"
    },
    {
     "data": {
      "application/vnd.jupyter.widget-view+json": {
       "model_id": "a71cfdef6db94d02b47c6a0667f985c2",
       "version_major": 2,
       "version_minor": 0
      },
      "text/plain": [
       "Training batches on cuda:0:   0%|          | 0.00/46.0 [00:00<?, ?batch/s]"
      ]
     },
     "metadata": {},
     "output_type": "display_data"
    },
    {
     "data": {
      "application/vnd.jupyter.widget-view+json": {
       "model_id": "484f52c70e144e48adf85322baa34b68",
       "version_major": 2,
       "version_minor": 0
      },
      "text/plain": [
       "Training batches on cuda:0:   0%|          | 0.00/46.0 [00:00<?, ?batch/s]"
      ]
     },
     "metadata": {},
     "output_type": "display_data"
    },
    {
     "data": {
      "application/vnd.jupyter.widget-view+json": {
       "model_id": "1b115ef441374b70b0e04336d8cd4c51",
       "version_major": 2,
       "version_minor": 0
      },
      "text/plain": [
       "Training batches on cuda:0:   0%|          | 0.00/46.0 [00:00<?, ?batch/s]"
      ]
     },
     "metadata": {},
     "output_type": "display_data"
    },
    {
     "data": {
      "application/vnd.jupyter.widget-view+json": {
       "model_id": "34e80caab592402a88ef15df2e937f87",
       "version_major": 2,
       "version_minor": 0
      },
      "text/plain": [
       "Training batches on cuda:0:   0%|          | 0.00/46.0 [00:00<?, ?batch/s]"
      ]
     },
     "metadata": {},
     "output_type": "display_data"
    },
    {
     "data": {
      "application/vnd.jupyter.widget-view+json": {
       "model_id": "182d9c0409bc479c904cb1aacb0d9e20",
       "version_major": 2,
       "version_minor": 0
      },
      "text/plain": [
       "Training batches on cuda:0:   0%|          | 0.00/46.0 [00:00<?, ?batch/s]"
      ]
     },
     "metadata": {},
     "output_type": "display_data"
    },
    {
     "data": {
      "application/vnd.jupyter.widget-view+json": {
       "model_id": "932390dd62f546ee8e0af915d25ec198",
       "version_major": 2,
       "version_minor": 0
      },
      "text/plain": [
       "Training batches on cuda:0:   0%|          | 0.00/46.0 [00:00<?, ?batch/s]"
      ]
     },
     "metadata": {},
     "output_type": "display_data"
    },
    {
     "data": {
      "application/vnd.jupyter.widget-view+json": {
       "model_id": "9a571debf3c74a56bcea819f20fa3c0d",
       "version_major": 2,
       "version_minor": 0
      },
      "text/plain": [
       "Training batches on cuda:0:   0%|          | 0.00/46.0 [00:00<?, ?batch/s]"
      ]
     },
     "metadata": {},
     "output_type": "display_data"
    },
    {
     "data": {
      "application/vnd.jupyter.widget-view+json": {
       "model_id": "abb78419f766446ba23ccbfe189562ce",
       "version_major": 2,
       "version_minor": 0
      },
      "text/plain": [
       "Training batches on cuda:0:   0%|          | 0.00/46.0 [00:00<?, ?batch/s]"
      ]
     },
     "metadata": {},
     "output_type": "display_data"
    },
    {
     "data": {
      "application/vnd.jupyter.widget-view+json": {
       "model_id": "f4e380cbcdee451fbe3d5b4a0c633c9a",
       "version_major": 2,
       "version_minor": 0
      },
      "text/plain": [
       "Training batches on cuda:0:   0%|          | 0.00/46.0 [00:00<?, ?batch/s]"
      ]
     },
     "metadata": {},
     "output_type": "display_data"
    },
    {
     "data": {
      "application/vnd.jupyter.widget-view+json": {
       "model_id": "c835f8bab69d4f4fa5658bdbb42df53c",
       "version_major": 2,
       "version_minor": 0
      },
      "text/plain": [
       "Training batches on cuda:0:   0%|          | 0.00/46.0 [00:00<?, ?batch/s]"
      ]
     },
     "metadata": {},
     "output_type": "display_data"
    },
    {
     "data": {
      "application/vnd.jupyter.widget-view+json": {
       "model_id": "56bae0f977dd4ec7ada2cf197537871f",
       "version_major": 2,
       "version_minor": 0
      },
      "text/plain": [
       "Training batches on cuda:0:   0%|          | 0.00/46.0 [00:00<?, ?batch/s]"
      ]
     },
     "metadata": {},
     "output_type": "display_data"
    },
    {
     "data": {
      "application/vnd.jupyter.widget-view+json": {
       "model_id": "d7663e99cc7443d7a102eca6b7225ae5",
       "version_major": 2,
       "version_minor": 0
      },
      "text/plain": [
       "Training batches on cuda:0:   0%|          | 0.00/46.0 [00:00<?, ?batch/s]"
      ]
     },
     "metadata": {},
     "output_type": "display_data"
    },
    {
     "data": {
      "application/vnd.jupyter.widget-view+json": {
       "model_id": "478f1b94d3164345a683f20bb9340d32",
       "version_major": 2,
       "version_minor": 0
      },
      "text/plain": [
       "Training batches on cuda:0:   0%|          | 0.00/46.0 [00:00<?, ?batch/s]"
      ]
     },
     "metadata": {},
     "output_type": "display_data"
    },
    {
     "data": {
      "application/vnd.jupyter.widget-view+json": {
       "model_id": "8acc962ccddf4af59f3910974b64f3ae",
       "version_major": 2,
       "version_minor": 0
      },
      "text/plain": [
       "Training batches on cuda:0:   0%|          | 0.00/46.0 [00:00<?, ?batch/s]"
      ]
     },
     "metadata": {},
     "output_type": "display_data"
    },
    {
     "data": {
      "application/vnd.jupyter.widget-view+json": {
       "model_id": "68e6113d3d174c3e819795a78f6c5832",
       "version_major": 2,
       "version_minor": 0
      },
      "text/plain": [
       "Training batches on cuda:0:   0%|          | 0.00/46.0 [00:00<?, ?batch/s]"
      ]
     },
     "metadata": {},
     "output_type": "display_data"
    },
    {
     "data": {
      "application/vnd.jupyter.widget-view+json": {
       "model_id": "bdafcde67ebd43cf9e56e513b1be56e6",
       "version_major": 2,
       "version_minor": 0
      },
      "text/plain": [
       "Training batches on cuda:0:   0%|          | 0.00/46.0 [00:00<?, ?batch/s]"
      ]
     },
     "metadata": {},
     "output_type": "display_data"
    },
    {
     "data": {
      "application/vnd.jupyter.widget-view+json": {
       "model_id": "7f4fe2b168504f09bca9b835b687ba81",
       "version_major": 2,
       "version_minor": 0
      },
      "text/plain": [
       "Training batches on cuda:0:   0%|          | 0.00/46.0 [00:00<?, ?batch/s]"
      ]
     },
     "metadata": {},
     "output_type": "display_data"
    },
    {
     "data": {
      "application/vnd.jupyter.widget-view+json": {
       "model_id": "f527258fe83e493b9e8a60f6d3b640ea",
       "version_major": 2,
       "version_minor": 0
      },
      "text/plain": [
       "Training batches on cuda:0:   0%|          | 0.00/46.0 [00:00<?, ?batch/s]"
      ]
     },
     "metadata": {},
     "output_type": "display_data"
    },
    {
     "data": {
      "application/vnd.jupyter.widget-view+json": {
       "model_id": "d816dd7f20924307bfc95773ed75670c",
       "version_major": 2,
       "version_minor": 0
      },
      "text/plain": [
       "Training batches on cuda:0:   0%|          | 0.00/46.0 [00:00<?, ?batch/s]"
      ]
     },
     "metadata": {},
     "output_type": "display_data"
    },
    {
     "data": {
      "application/vnd.jupyter.widget-view+json": {
       "model_id": "b2f50c48bb24466bbe2f8b23cefc50e0",
       "version_major": 2,
       "version_minor": 0
      },
      "text/plain": [
       "Training batches on cuda:0:   0%|          | 0.00/46.0 [00:00<?, ?batch/s]"
      ]
     },
     "metadata": {},
     "output_type": "display_data"
    },
    {
     "data": {
      "application/vnd.jupyter.widget-view+json": {
       "model_id": "704212f04f21453893b1f72e6841e9b3",
       "version_major": 2,
       "version_minor": 0
      },
      "text/plain": [
       "Training batches on cuda:0:   0%|          | 0.00/46.0 [00:00<?, ?batch/s]"
      ]
     },
     "metadata": {},
     "output_type": "display_data"
    },
    {
     "data": {
      "application/vnd.jupyter.widget-view+json": {
       "model_id": "0399fb54f9964a2ebbe45ec781ed954c",
       "version_major": 2,
       "version_minor": 0
      },
      "text/plain": [
       "Evaluating on cuda:0:   0%|          | 0.00/2.88k [00:00<?, ?triple/s]"
      ]
     },
     "metadata": {},
     "output_type": "display_data"
    },
    {
     "name": "stderr",
     "output_type": "stream",
     "text": [
      "INFO:pykeen.evaluation.evaluator:Evaluation took 0.56s seconds\n"
     ]
    }
   ],
   "source": [
    "device = \"cuda\" if torch.cuda.is_available() else \"cpu\"\n",
    "\n",
    "resultTransE = pipeline(\n",
    "    training=training,\n",
    "    testing=testing,\n",
    "    model=\"TransE\",\n",
    "    model_kwargs=dict(\n",
    "        embedding_dim=128,\n",
    "    ),\n",
    "    training_kwargs=dict(\n",
    "        num_epochs=50\n",
    "    ),\n",
    "    negative_sampler_kwargs=dict(\n",
    "        num_negs_per_pos=5,\n",
    "    ),\n",
    "    random_seed=2025,\n",
    "    device = device\n",
    ")"
   ]
  },
  {
   "cell_type": "markdown",
   "id": "9f879a53",
   "metadata": {},
   "source": [
    "We choose the paper with id: \"4ab60d22-67d1-4683-8648-f1f2601d2ce0\""
   ]
  },
  {
   "cell_type": "code",
   "execution_count": 15,
   "id": "ff153c6a",
   "metadata": {},
   "outputs": [],
   "source": [
    "paper = '4ab60d22-67d1-4683-8648-f1f2601d2ce0'\n",
    "\n",
    "cites = 'cites'\n",
    "written_by = 'written_by'\n",
    "\n",
    "entity_embeddings = resultTransE.model.entity_representations[0](indices= None).detach()\n",
    "relation_embeddings = resultTransE.model.relation_representations[0](indices=None).detach()\n",
    "\n",
    "citing_paper_id = resultTransE.training.entity_to_id[paper]\n",
    "cites_id = resultTransE.training.relation_to_id[cites]\n",
    "\n",
    "citing_paper_embedding = entity_embeddings[citing_paper_id]\n",
    "cites_embedding = relation_embeddings[cites_id]\n"
   ]
  },
  {
   "cell_type": "code",
   "execution_count": 16,
   "id": "c3717ac2",
   "metadata": {},
   "outputs": [
    {
     "name": "stdout",
     "output_type": "stream",
     "text": [
      "A likely cited paper was found.\n",
      "The cited paper is: 4ab4c17b-a9ac-4f37-8e71-5977d5db5a07\n",
      "Most likely cited paper embedding vector:\n",
      "tensor([-0.0502, -0.0390, -0.2313,  0.0068,  0.0385,  0.0386, -0.1904,  0.1632,\n",
      "         0.1959,  0.0702, -0.1881,  0.0619,  0.0166, -0.0050, -0.0968,  0.2545,\n",
      "        -0.0349, -0.0888,  0.1286, -0.1457,  0.1279, -0.1073,  0.0079,  0.0201,\n",
      "        -0.0166,  0.1746,  0.1243, -0.0534, -0.0823, -0.0874, -0.0608,  0.0880,\n",
      "        -0.0561, -0.1020, -0.0227,  0.1750,  0.0651, -0.1019,  0.0642,  0.2905,\n",
      "         0.0787,  0.1933,  0.0593,  0.0326,  0.0829,  0.0034,  0.2662,  0.0779,\n",
      "         0.2340, -0.0378,  0.1816,  0.1323,  0.0621, -0.2679, -0.1196, -0.2895,\n",
      "         0.0332,  0.0253, -0.1010, -0.1703, -0.0118,  0.1329, -0.0556,  0.2032,\n",
      "        -0.2130, -0.1174, -0.0319,  0.2885,  0.2545,  0.0256,  0.1344, -0.0761,\n",
      "        -0.3492,  0.1589,  0.1141, -0.0465, -0.0035,  0.0667,  0.2326,  0.2370,\n",
      "        -0.1149,  0.1648,  0.0026, -0.0030,  0.0944,  0.1727, -0.0902, -0.0219,\n",
      "        -0.0424,  0.1338, -0.0269, -0.0057,  0.0449,  0.0913, -0.0877, -0.0684,\n",
      "         0.0459, -0.0912,  0.3258, -0.0177, -0.1019, -0.1890, -0.0511, -0.0635,\n",
      "         0.0082, -0.0375, -0.0179, -0.0668,  0.3000,  0.0604, -0.1473, -0.0269,\n",
      "        -0.1012,  0.1859,  0.1336,  0.2534,  0.0363,  0.1155, -0.1555, -0.0553,\n",
      "        -0.3831, -0.0163, -0.0608,  0.0467,  0.1244, -0.1469, -0.1392, -0.1446],\n",
      "       device='cuda:0')\n",
      "\n"
     ]
    }
   ],
   "source": [
    "# Compute the estimated embedding of the cited paper\n",
    "cited_paper_embedding = citing_paper_embedding + cites_embedding\n",
    "\n",
    "# Compute Euclidean distances to all entities\n",
    "distances = torch.norm(entity_embeddings - cited_paper_embedding.unsqueeze(0), p=2, dim=1)\n",
    "sorted_distances, sorted_indices = torch.sort(distances)\n",
    "\n",
    "# Find the closest entity that is not the citing paper itself\n",
    "top_cited_paper_id = -1\n",
    "for index in sorted_indices:\n",
    "    if index != citing_paper_id:\n",
    "        top_cited_paper_id = index.item()\n",
    "        break\n",
    "\n",
    "# Output the result\n",
    "if top_cited_paper_id != -1:\n",
    "    print('A likely cited paper was found.')\n",
    "    print(f'The cited paper is: {resultTransE.training.entity_id_to_label[top_cited_paper_id]}')\n",
    "    print(f'Most likely cited paper embedding vector:\\n{cited_paper_embedding}\\n')\n",
    "else:\n",
    "    print('No likely cited paper found.')"
   ]
  },
  {
   "cell_type": "code",
   "execution_count": 12,
   "id": "c1a0b960",
   "metadata": {},
   "outputs": [
    {
     "name": "stdout",
     "output_type": "stream",
     "text": [
      "The most likely author embedding vector: \n",
      " tensor([ 0.0639,  0.1592, -0.2031, -0.1673,  0.1281,  0.0600, -0.0361, -0.0596,\n",
      "         0.1319,  0.2097, -0.1905,  0.0146, -0.1211,  0.0785, -0.0563,  0.4573,\n",
      "         0.1426, -0.1085,  0.2079, -0.3335,  0.2982, -0.1708, -0.0671, -0.0128,\n",
      "        -0.0152,  0.3773,  0.1706,  0.0489, -0.0331, -0.1103,  0.0593, -0.0580,\n",
      "         0.0245, -0.0605, -0.1389,  0.2875, -0.0016, -0.0091,  0.1372,  0.4293,\n",
      "         0.1897,  0.3557, -0.0133, -0.0857,  0.1335, -0.0251,  0.1701,  0.0445,\n",
      "         0.2906, -0.0210,  0.2446,  0.3222,  0.1008, -0.1276, -0.0157, -0.0900,\n",
      "        -0.1442,  0.1791,  0.0010, -0.0563, -0.0381,  0.0513, -0.0328,  0.3265,\n",
      "        -0.1433, -0.2202,  0.0280,  0.3171,  0.1404, -0.0057,  0.0169, -0.1635,\n",
      "        -0.3645, -0.0527, -0.0129, -0.0578,  0.0138,  0.2323,  0.3539,  0.3800,\n",
      "        -0.0147,  0.0013,  0.1169,  0.1129,  0.0330,  0.3851,  0.1001,  0.1080,\n",
      "        -0.1248,  0.0763, -0.1977, -0.1474, -0.0483,  0.0197,  0.0080, -0.1115,\n",
      "         0.0543,  0.0096,  0.2448,  0.0073, -0.1723, -0.3049, -0.0649, -0.0773,\n",
      "        -0.0620, -0.1027, -0.1162,  0.0439,  0.2144, -0.1527, -0.0959, -0.1274,\n",
      "        -0.2999,  0.0771,  0.2365,  0.3639,  0.1399, -0.0498,  0.0919,  0.0018,\n",
      "        -0.3030,  0.1152,  0.0559,  0.2254, -0.0215, -0.1566, -0.0790, -0.1804],\n",
      "       device='cuda:0')\n"
     ]
    }
   ],
   "source": [
    "written_by_id = resultTransE.training.relation_to_id[written_by]\n",
    "written_by_embedding = relation_embeddings[written_by_id]\n",
    "\n",
    "author_embedding = cited_paper_embedding + written_by_embedding\n",
    "\n",
    "print(f'The most likely author embedding vector: \\n {author_embedding}')"
   ]
  },
  {
   "cell_type": "code",
   "execution_count": 13,
   "id": "21fa68e5",
   "metadata": {},
   "outputs": [
    {
     "name": "stdout",
     "output_type": "stream",
     "text": [
      "The most likely author is: AUTHOR_331\n"
     ]
    }
   ],
   "source": [
    "distances = torch.norm(entity_embeddings - author_embedding.unsqueeze(0), p=2, dim=1)  # Euclidean Distance\n",
    "sorted_distances, sorted_indices = torch.sort(distances)\n",
    "\n",
    "top_author_id = -1\n",
    "for index in sorted_indices:\n",
    "    if index != citing_paper_id:\n",
    "        top_author_id = index.item()\n",
    "        break\n",
    "if top_author_id != -1:\n",
    "    top_author = resultTransE.training.entity_id_to_label[top_author_id]\n",
    "\n",
    "    print(f'The most likely author is: {top_author}')"
   ]
  }
 ],
 "metadata": {
  "kernelspec": {
   "display_name": "Python 3",
   "language": "python",
   "name": "python3"
  },
  "language_info": {
   "codemirror_mode": {
    "name": "ipython",
    "version": 3
   },
   "file_extension": ".py",
   "mimetype": "text/x-python",
   "name": "python",
   "nbconvert_exporter": "python",
   "pygments_lexer": "ipython3",
   "version": "3.11.0"
  }
 },
 "nbformat": 4,
 "nbformat_minor": 5
}
