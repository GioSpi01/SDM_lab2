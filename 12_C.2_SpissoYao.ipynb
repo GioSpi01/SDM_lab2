{
 "cells": [
  {
   "cell_type": "code",
   "execution_count": 5,
   "id": "982f8407",
   "metadata": {},
   "outputs": [],
   "source": [
    "import torch\n",
    "import pykeen\n",
    "import pandas as pd\n",
    "from pykeen import predict\n",
    "from pykeen.pipeline import pipeline\n",
    "from pykeen.triples import TriplesFactory\n",
    "import numpy as np\n",
    "\n",
    "file_path = 'C.1_query.tsv'"
   ]
  },
  {
   "cell_type": "code",
   "execution_count": 6,
   "id": "f6dc10b4",
   "metadata": {},
   "outputs": [
    {
     "name": "stderr",
     "output_type": "stream",
     "text": [
      "INFO:pykeen.triples.splitting:done splitting triples to groups of sizes [11422, 3318]\n"
     ]
    }
   ],
   "source": [
    "tf = TriplesFactory.from_path(file_path, delimiter=\"\\t\")\n",
    "training, testing = tf.split([0.8, 0.2], random_state=2025)"
   ]
  },
  {
   "cell_type": "markdown",
   "id": "d704a726",
   "metadata": {},
   "source": [
    "## The Most Basic Model"
   ]
  },
  {
   "cell_type": "code",
   "execution_count": 7,
   "id": "f9de075f",
   "metadata": {},
   "outputs": [
    {
     "name": "stderr",
     "output_type": "stream",
     "text": [
      "INFO:pykeen.pipeline.api:Using device: cuda\n",
      "INFO:pykeen.nn.representation:Inferred unique=False for Embedding()\n",
      "INFO:pykeen.nn.representation:Inferred unique=False for Embedding()\n"
     ]
    },
    {
     "data": {
      "application/vnd.jupyter.widget-view+json": {
       "model_id": "f48e1c6a1fa64937aec463c4ccfc507c",
       "version_major": 2,
       "version_minor": 0
      },
      "text/plain": [
       "Training epochs on cuda:0:   0%|          | 0/20 [00:00<?, ?epoch/s]"
      ]
     },
     "metadata": {},
     "output_type": "display_data"
    },
    {
     "data": {
      "application/vnd.jupyter.widget-view+json": {
       "model_id": "dc77766f57eb41b2b6fb7d01b939c26a",
       "version_major": 2,
       "version_minor": 0
      },
      "text/plain": [
       "Training batches on cuda:0:   0%|          | 0.00/52.0 [00:00<?, ?batch/s]"
      ]
     },
     "metadata": {},
     "output_type": "display_data"
    },
    {
     "data": {
      "application/vnd.jupyter.widget-view+json": {
       "model_id": "e303f72d19984cbda1dd3dbc17fef715",
       "version_major": 2,
       "version_minor": 0
      },
      "text/plain": [
       "Training batches on cuda:0:   0%|          | 0.00/52.0 [00:00<?, ?batch/s]"
      ]
     },
     "metadata": {},
     "output_type": "display_data"
    },
    {
     "data": {
      "application/vnd.jupyter.widget-view+json": {
       "model_id": "b9818eec75654a9ebad0d22ce143c533",
       "version_major": 2,
       "version_minor": 0
      },
      "text/plain": [
       "Training batches on cuda:0:   0%|          | 0.00/52.0 [00:00<?, ?batch/s]"
      ]
     },
     "metadata": {},
     "output_type": "display_data"
    },
    {
     "data": {
      "application/vnd.jupyter.widget-view+json": {
       "model_id": "2ae143aa1ff54ef3873532cc5d75a220",
       "version_major": 2,
       "version_minor": 0
      },
      "text/plain": [
       "Training batches on cuda:0:   0%|          | 0.00/52.0 [00:00<?, ?batch/s]"
      ]
     },
     "metadata": {},
     "output_type": "display_data"
    },
    {
     "data": {
      "application/vnd.jupyter.widget-view+json": {
       "model_id": "28f5e35e832b4df0b47dc7e533a591f2",
       "version_major": 2,
       "version_minor": 0
      },
      "text/plain": [
       "Training batches on cuda:0:   0%|          | 0.00/52.0 [00:00<?, ?batch/s]"
      ]
     },
     "metadata": {},
     "output_type": "display_data"
    },
    {
     "data": {
      "application/vnd.jupyter.widget-view+json": {
       "model_id": "e7e7bf4c386e4f4797ede32f0000f9be",
       "version_major": 2,
       "version_minor": 0
      },
      "text/plain": [
       "Training batches on cuda:0:   0%|          | 0.00/52.0 [00:00<?, ?batch/s]"
      ]
     },
     "metadata": {},
     "output_type": "display_data"
    },
    {
     "data": {
      "application/vnd.jupyter.widget-view+json": {
       "model_id": "86c7597245574204b80eddece7a98c52",
       "version_major": 2,
       "version_minor": 0
      },
      "text/plain": [
       "Training batches on cuda:0:   0%|          | 0.00/52.0 [00:00<?, ?batch/s]"
      ]
     },
     "metadata": {},
     "output_type": "display_data"
    },
    {
     "data": {
      "application/vnd.jupyter.widget-view+json": {
       "model_id": "f1a9d06eded94d3f87544059bc013356",
       "version_major": 2,
       "version_minor": 0
      },
      "text/plain": [
       "Training batches on cuda:0:   0%|          | 0.00/52.0 [00:00<?, ?batch/s]"
      ]
     },
     "metadata": {},
     "output_type": "display_data"
    },
    {
     "data": {
      "application/vnd.jupyter.widget-view+json": {
       "model_id": "be814f13a21447f6925a40cfd2e48dab",
       "version_major": 2,
       "version_minor": 0
      },
      "text/plain": [
       "Training batches on cuda:0:   0%|          | 0.00/52.0 [00:00<?, ?batch/s]"
      ]
     },
     "metadata": {},
     "output_type": "display_data"
    },
    {
     "data": {
      "application/vnd.jupyter.widget-view+json": {
       "model_id": "ff7632fe38124fa6aac8c026405756d3",
       "version_major": 2,
       "version_minor": 0
      },
      "text/plain": [
       "Training batches on cuda:0:   0%|          | 0.00/52.0 [00:00<?, ?batch/s]"
      ]
     },
     "metadata": {},
     "output_type": "display_data"
    },
    {
     "data": {
      "application/vnd.jupyter.widget-view+json": {
       "model_id": "1805d97463224c3ba94cd8a345cacd1b",
       "version_major": 2,
       "version_minor": 0
      },
      "text/plain": [
       "Training batches on cuda:0:   0%|          | 0.00/52.0 [00:00<?, ?batch/s]"
      ]
     },
     "metadata": {},
     "output_type": "display_data"
    },
    {
     "data": {
      "application/vnd.jupyter.widget-view+json": {
       "model_id": "7461e1c1c35543448f3883c5e3ee2122",
       "version_major": 2,
       "version_minor": 0
      },
      "text/plain": [
       "Training batches on cuda:0:   0%|          | 0.00/52.0 [00:00<?, ?batch/s]"
      ]
     },
     "metadata": {},
     "output_type": "display_data"
    },
    {
     "data": {
      "application/vnd.jupyter.widget-view+json": {
       "model_id": "9868fa451fec4cd08410a575100f43f2",
       "version_major": 2,
       "version_minor": 0
      },
      "text/plain": [
       "Training batches on cuda:0:   0%|          | 0.00/52.0 [00:00<?, ?batch/s]"
      ]
     },
     "metadata": {},
     "output_type": "display_data"
    },
    {
     "data": {
      "application/vnd.jupyter.widget-view+json": {
       "model_id": "f7e4b55cad6e4dd99409fc4153fe72ce",
       "version_major": 2,
       "version_minor": 0
      },
      "text/plain": [
       "Training batches on cuda:0:   0%|          | 0.00/52.0 [00:00<?, ?batch/s]"
      ]
     },
     "metadata": {},
     "output_type": "display_data"
    },
    {
     "data": {
      "application/vnd.jupyter.widget-view+json": {
       "model_id": "fbedde15b9064cd1bdf98ad2f3690ea7",
       "version_major": 2,
       "version_minor": 0
      },
      "text/plain": [
       "Training batches on cuda:0:   0%|          | 0.00/52.0 [00:00<?, ?batch/s]"
      ]
     },
     "metadata": {},
     "output_type": "display_data"
    },
    {
     "data": {
      "application/vnd.jupyter.widget-view+json": {
       "model_id": "24aed18faeb94645a96ceb7cc70b17e9",
       "version_major": 2,
       "version_minor": 0
      },
      "text/plain": [
       "Training batches on cuda:0:   0%|          | 0.00/52.0 [00:00<?, ?batch/s]"
      ]
     },
     "metadata": {},
     "output_type": "display_data"
    },
    {
     "data": {
      "application/vnd.jupyter.widget-view+json": {
       "model_id": "1413337f5a64498b839ebd8a5d3ce822",
       "version_major": 2,
       "version_minor": 0
      },
      "text/plain": [
       "Training batches on cuda:0:   0%|          | 0.00/52.0 [00:00<?, ?batch/s]"
      ]
     },
     "metadata": {},
     "output_type": "display_data"
    },
    {
     "data": {
      "application/vnd.jupyter.widget-view+json": {
       "model_id": "f3d38cf9e0dc4eb3889aa1c0c8a749aa",
       "version_major": 2,
       "version_minor": 0
      },
      "text/plain": [
       "Training batches on cuda:0:   0%|          | 0.00/52.0 [00:00<?, ?batch/s]"
      ]
     },
     "metadata": {},
     "output_type": "display_data"
    },
    {
     "data": {
      "application/vnd.jupyter.widget-view+json": {
       "model_id": "34d76a64c2cc46de840114161592396c",
       "version_major": 2,
       "version_minor": 0
      },
      "text/plain": [
       "Training batches on cuda:0:   0%|          | 0.00/52.0 [00:00<?, ?batch/s]"
      ]
     },
     "metadata": {},
     "output_type": "display_data"
    },
    {
     "data": {
      "application/vnd.jupyter.widget-view+json": {
       "model_id": "4e6599aa40dd48fd980edb8e08d5d67b",
       "version_major": 2,
       "version_minor": 0
      },
      "text/plain": [
       "Training batches on cuda:0:   0%|          | 0.00/52.0 [00:00<?, ?batch/s]"
      ]
     },
     "metadata": {},
     "output_type": "display_data"
    },
    {
     "data": {
      "application/vnd.jupyter.widget-view+json": {
       "model_id": "f9a19f0f15f4414d9e05685b7397619f",
       "version_major": 2,
       "version_minor": 0
      },
      "text/plain": [
       "Evaluating on cuda:0:   0%|          | 0.00/3.32k [00:00<?, ?triple/s]"
      ]
     },
     "metadata": {},
     "output_type": "display_data"
    },
    {
     "name": "stderr",
     "output_type": "stream",
     "text": [
      "c:\\Users\\usuario\\AppData\\Local\\Programs\\Python\\Python311\\Lib\\site-packages\\pykeen\\utils.py:508: RuntimeWarning: overflow encountered in scalar add\n",
      "  return sum(\n",
      "INFO:pykeen.evaluation.evaluator:Evaluation took 17.72s seconds\n"
     ]
    }
   ],
   "source": [
    "device = \"cuda\" if torch.cuda.is_available() else \"cpu\"\n",
    "\n",
    "resultTransE = pipeline(\n",
    "    training=training,\n",
    "    testing=testing,\n",
    "    model=\"TransE\",\n",
    "    model_kwargs=dict(\n",
    "        embedding_dim=128,\n",
    "    ),\n",
    "    training_kwargs=dict(\n",
    "        num_epochs=20\n",
    "    ),\n",
    "    negative_sampler_kwargs=dict(\n",
    "        num_negs_per_pos=5,\n",
    "    ),\n",
    "    random_seed=2025,\n",
    "    device = device\n",
    ")"
   ]
  },
  {
   "cell_type": "markdown",
   "id": "9f879a53",
   "metadata": {},
   "source": [
    "We choose the paper with id: \"4ab60d22-67d1-4683-8648-f1f2601d2ce0\""
   ]
  },
  {
   "cell_type": "code",
   "execution_count": 8,
   "id": "ff153c6a",
   "metadata": {},
   "outputs": [],
   "source": [
    "paper = '4ab60d22-67d1-4683-8648-f1f2601d2ce0'\n",
    "\n",
    "cites = 'cites'\n",
    "written_by = 'written_by'\n",
    "\n",
    "entity_embeddings = resultTransE.model.entity_representations[0](indices= None).detach()\n",
    "relation_embeddings = resultTransE.model.relation_representations[0](indices=None).detach()\n",
    "\n",
    "citing_paper_id = resultTransE.training.entity_to_id[paper]\n",
    "cites_id = resultTransE.training.relation_to_id[cites]\n",
    "\n",
    "citing_paper_embedding = entity_embeddings[citing_paper_id]\n",
    "cites_embedding = relation_embeddings[cites_id]\n"
   ]
  },
  {
   "cell_type": "code",
   "execution_count": 13,
   "id": "c3717ac2",
   "metadata": {},
   "outputs": [
    {
     "name": "stdout",
     "output_type": "stream",
     "text": [
      "A likely cited paper was found.\n",
      "Most likely cited paper embedding vector:\n",
      "tensor([-0.3767, -0.0919, -0.0403, -0.0966,  0.0061,  0.1602,  0.3159,  0.0060,\n",
      "        -0.0229, -0.1147, -0.0722,  0.0963, -0.1766, -0.2739,  0.1544, -0.4501,\n",
      "        -0.0263,  0.1323, -0.1676,  0.0723,  0.1876, -0.3807, -0.2260, -0.2787,\n",
      "        -0.0657, -0.0352,  0.0757, -0.3660,  0.0498, -0.1176,  0.0697,  0.0792,\n",
      "         0.3866, -0.2878, -0.1642, -0.1327,  0.0896, -0.0776, -0.1176, -0.0690,\n",
      "         0.0627, -0.1493,  0.0051,  0.0773, -0.0151,  0.0177,  0.0910,  0.0709,\n",
      "        -0.0481, -0.0285, -0.0620,  0.2562, -0.4616,  0.0740, -0.0221,  0.1009,\n",
      "         0.0700, -0.0685,  0.2536, -0.0914,  0.0361, -0.0306, -0.1291,  0.0658,\n",
      "         0.2040,  0.0271,  0.3341, -0.0363,  0.1065,  0.0696,  0.0338,  0.0637,\n",
      "        -0.0098, -0.0280,  0.1646, -0.0927,  0.2481,  0.1993, -0.0868, -0.0097,\n",
      "         0.1960, -0.1219, -0.0144, -0.1320, -0.0831, -0.1968,  0.0216, -0.1987,\n",
      "         0.1248, -0.0414, -0.0256,  0.1552, -0.0199, -0.2453,  0.0697, -0.0529,\n",
      "        -0.1206,  0.0029, -0.0096,  0.0386,  0.0263, -0.1212,  0.0318,  0.5086,\n",
      "        -0.1344,  0.0735, -0.0610,  0.1975,  0.2417,  0.0624,  0.0564,  0.0329,\n",
      "         0.0889,  0.0039,  0.0882,  0.1189, -0.1186, -0.0066,  0.1154,  0.0177,\n",
      "        -0.0108,  0.2409, -0.0700, -0.0289, -0.0572,  0.0377, -0.0285,  0.3418],\n",
      "       device='cuda:0')\n",
      "\n"
     ]
    }
   ],
   "source": [
    "# Compute the estimated embedding of the cited paper\n",
    "cited_paper_embedding = citing_paper_embedding + cites_embedding\n",
    "\n",
    "# Compute Euclidean distances to all entities\n",
    "distances = torch.norm(entity_embeddings - cited_paper_embedding.unsqueeze(0), p=2, dim=1)\n",
    "sorted_distances, sorted_indices = torch.sort(distances)\n",
    "\n",
    "# Find the closest entity that is not the citing paper itself\n",
    "top_cited_paper_id = -1\n",
    "for index in sorted_indices:\n",
    "    if index != citing_paper_id:\n",
    "        top_cited_paper_id = index.item()\n",
    "        break\n",
    "\n",
    "# Output the result\n",
    "if top_cited_paper_id != -1:\n",
    "    print('A likely cited paper was found.')\n",
    "    # print(resultTransE.training.entity_id_to_label[top_cited_paper_id])\n",
    "    print(f'Most likely cited paper embedding vector:\\n{cited_paper_embedding}\\n')\n",
    "else:\n",
    "    print('No likely cited paper found.')"
   ]
  },
  {
   "cell_type": "code",
   "execution_count": 10,
   "id": "c1a0b960",
   "metadata": {},
   "outputs": [
    {
     "name": "stdout",
     "output_type": "stream",
     "text": [
      "The most likely author embedding vector: \n",
      " tensor([-2.4818e-01,  1.9305e-03, -2.9281e-02, -7.7749e-02, -7.0464e-02,\n",
      "         8.7784e-02,  3.0137e-01,  4.1341e-02, -6.3045e-02,  5.2587e-02,\n",
      "        -2.0990e-02, -3.8031e-02, -9.5406e-02, -1.4075e-01,  1.6771e-01,\n",
      "        -5.6399e-01, -2.0654e-02,  1.1191e-01, -2.1349e-01,  2.2199e-01,\n",
      "         3.1246e-01, -2.9146e-01, -1.5512e-01, -4.0889e-01,  9.1462e-02,\n",
      "         9.7104e-02,  5.4135e-02, -1.9917e-01, -2.5941e-02, -5.8557e-02,\n",
      "         1.9260e-01,  5.4811e-02,  5.4073e-01, -1.6118e-01, -1.9419e-01,\n",
      "        -1.8914e-02,  1.7064e-01,  3.8842e-02,  5.8900e-02,  5.4219e-02,\n",
      "        -7.2973e-03, -8.9927e-02,  5.3853e-02, -1.3237e-01, -6.3891e-02,\n",
      "         6.8475e-02,  8.1229e-02, -3.5972e-02,  5.9759e-02,  2.5806e-02,\n",
      "        -1.3173e-01,  3.5349e-01, -3.4844e-01, -6.0818e-02, -2.1220e-01,\n",
      "         6.5024e-02,  1.1397e-02, -1.9281e-01,  2.8385e-01, -9.0903e-02,\n",
      "        -3.4994e-02, -1.3689e-01,  2.5786e-02,  2.3222e-02,  3.6247e-01,\n",
      "         2.1548e-01,  5.1392e-01, -6.2558e-02, -2.9594e-02, -1.2194e-01,\n",
      "         5.6261e-02,  1.1872e-01, -5.6593e-02, -1.8810e-01,  1.9398e-01,\n",
      "        -1.4208e-01,  3.8294e-01,  9.0661e-02, -2.2088e-01,  5.9814e-02,\n",
      "         2.7729e-01, -3.5877e-02,  1.0012e-02, -1.7908e-01,  1.3450e-02,\n",
      "        -2.2920e-01,  3.5850e-02, -7.7234e-02, -8.8734e-02, -5.0504e-02,\n",
      "         6.4580e-02,  8.1042e-02, -1.3447e-01, -1.6525e-01, -1.2716e-01,\n",
      "        -1.4759e-01,  3.0150e-02,  1.7467e-01, -1.2251e-01, -9.1550e-02,\n",
      "        -5.2644e-02,  6.0253e-05, -3.5308e-02,  4.0252e-01, -3.3118e-02,\n",
      "        -8.6645e-02, -1.7972e-01,  7.7215e-02,  7.4474e-02, -6.3743e-02,\n",
      "        -1.6511e-02,  3.9739e-02,  2.6082e-02, -8.2990e-02, -7.9749e-02,\n",
      "         2.7951e-01,  6.8047e-02,  8.8903e-02,  1.0042e-01,  1.4365e-01,\n",
      "         2.8220e-02,  1.7892e-01, -1.8315e-01,  1.3024e-01,  1.1137e-01,\n",
      "         2.1669e-01,  6.9977e-02,  3.0450e-01], device='cuda:0')\n"
     ]
    }
   ],
   "source": [
    "written_by_id = resultTransE.training.relation_to_id[written_by]\n",
    "written_by_embedding = relation_embeddings[written_by_id]\n",
    "\n",
    "author_embedding = cited_paper_embedding + written_by_embedding\n",
    "\n",
    "print(f'The most likely author embedding vector: \\n {author_embedding}')"
   ]
  },
  {
   "cell_type": "code",
   "execution_count": 11,
   "id": "21fa68e5",
   "metadata": {},
   "outputs": [
    {
     "name": "stdout",
     "output_type": "stream",
     "text": [
      "The most likely author is: AUTHOR_336\n"
     ]
    }
   ],
   "source": [
    "distances = torch.norm(entity_embeddings - author_embedding.unsqueeze(0), p=2, dim=1)  # Euclidean Distance\n",
    "sorted_distances, sorted_indices = torch.sort(distances)\n",
    "\n",
    "top_author_id = -1\n",
    "for index in sorted_indices:\n",
    "    if index != citing_paper_id:\n",
    "        top_author_id = index.item()\n",
    "        break\n",
    "if top_author_id != -1:\n",
    "    top_author = resultTransE.training.entity_id_to_label[top_author_id]\n",
    "\n",
    "    print(f'The most likely author is: {top_author}')"
   ]
  }
 ],
 "metadata": {
  "kernelspec": {
   "display_name": "Python 3",
   "language": "python",
   "name": "python3"
  },
  "language_info": {
   "codemirror_mode": {
    "name": "ipython",
    "version": 3
   },
   "file_extension": ".py",
   "mimetype": "text/x-python",
   "name": "python",
   "nbconvert_exporter": "python",
   "pygments_lexer": "ipython3",
   "version": "3.11.0"
  }
 },
 "nbformat": 4,
 "nbformat_minor": 5
}
