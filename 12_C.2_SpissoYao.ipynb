{
 "cells": [
  {
   "cell_type": "code",
   "execution_count": 8,
   "id": "982f8407",
   "metadata": {},
   "outputs": [],
   "source": [
    "import torch\n",
    "import pykeen\n",
    "import pandas as pd\n",
    "from pykeen import predict\n",
    "from pykeen.pipeline import pipeline\n",
    "from pykeen.triples import TriplesFactory\n",
    "import numpy as np\n",
    "\n",
    "file_path = 'C.2_query.tsv'"
   ]
  },
  {
   "cell_type": "code",
   "execution_count": 9,
   "id": "f6dc10b4",
   "metadata": {},
   "outputs": [
    {
     "name": "stderr",
     "output_type": "stream",
     "text": [
      "INFO:pykeen.triples.splitting:done splitting triples to groups of sizes [10531, 2881]\n"
     ]
    }
   ],
   "source": [
    "tf = TriplesFactory.from_path(file_path, delimiter=\"\\t\")\n",
    "training, testing = tf.split([0.8, 0.2], random_state=2025)"
   ]
  },
  {
   "cell_type": "markdown",
   "id": "d704a726",
   "metadata": {},
   "source": [
    "## The Most Basic Model"
   ]
  },
  {
   "cell_type": "code",
   "execution_count": 10,
   "id": "f9de075f",
   "metadata": {},
   "outputs": [
    {
     "name": "stderr",
     "output_type": "stream",
     "text": [
      "INFO:pykeen.pipeline.api:Using device: cuda\n",
      "INFO:pykeen.nn.representation:Inferred unique=False for Embedding()\n",
      "INFO:pykeen.nn.representation:Inferred unique=False for Embedding()\n"
     ]
    },
    {
     "data": {
      "application/vnd.jupyter.widget-view+json": {
       "model_id": "aa507bee84d14a4f81484c8f81df89fc",
       "version_major": 2,
       "version_minor": 0
      },
      "text/plain": [
       "Training epochs on cuda:0:   0%|          | 0/50 [00:00<?, ?epoch/s]"
      ]
     },
     "metadata": {},
     "output_type": "display_data"
    },
    {
     "data": {
      "application/vnd.jupyter.widget-view+json": {
       "model_id": "9ee54b47d9204018948b7a62105d59e9",
       "version_major": 2,
       "version_minor": 0
      },
      "text/plain": [
       "Training batches on cuda:0:   0%|          | 0.00/46.0 [00:00<?, ?batch/s]"
      ]
     },
     "metadata": {},
     "output_type": "display_data"
    },
    {
     "data": {
      "application/vnd.jupyter.widget-view+json": {
       "model_id": "51e3d2a084a24458bf98e9d85853d116",
       "version_major": 2,
       "version_minor": 0
      },
      "text/plain": [
       "Training batches on cuda:0:   0%|          | 0.00/46.0 [00:00<?, ?batch/s]"
      ]
     },
     "metadata": {},
     "output_type": "display_data"
    },
    {
     "data": {
      "application/vnd.jupyter.widget-view+json": {
       "model_id": "2e9aeb3e57634b5098a0bbdae57ef8f1",
       "version_major": 2,
       "version_minor": 0
      },
      "text/plain": [
       "Training batches on cuda:0:   0%|          | 0.00/46.0 [00:00<?, ?batch/s]"
      ]
     },
     "metadata": {},
     "output_type": "display_data"
    },
    {
     "data": {
      "application/vnd.jupyter.widget-view+json": {
       "model_id": "dd5173c346fa4071836a28bf7ba7b5bc",
       "version_major": 2,
       "version_minor": 0
      },
      "text/plain": [
       "Training batches on cuda:0:   0%|          | 0.00/46.0 [00:00<?, ?batch/s]"
      ]
     },
     "metadata": {},
     "output_type": "display_data"
    },
    {
     "data": {
      "application/vnd.jupyter.widget-view+json": {
       "model_id": "1b4ba9b1863747588aebd79e5714c66c",
       "version_major": 2,
       "version_minor": 0
      },
      "text/plain": [
       "Training batches on cuda:0:   0%|          | 0.00/46.0 [00:00<?, ?batch/s]"
      ]
     },
     "metadata": {},
     "output_type": "display_data"
    },
    {
     "data": {
      "application/vnd.jupyter.widget-view+json": {
       "model_id": "3aa948273df8484cae8340558a589b72",
       "version_major": 2,
       "version_minor": 0
      },
      "text/plain": [
       "Training batches on cuda:0:   0%|          | 0.00/46.0 [00:00<?, ?batch/s]"
      ]
     },
     "metadata": {},
     "output_type": "display_data"
    },
    {
     "data": {
      "application/vnd.jupyter.widget-view+json": {
       "model_id": "b9d135ae5477415b9e108afe616db26f",
       "version_major": 2,
       "version_minor": 0
      },
      "text/plain": [
       "Training batches on cuda:0:   0%|          | 0.00/46.0 [00:00<?, ?batch/s]"
      ]
     },
     "metadata": {},
     "output_type": "display_data"
    },
    {
     "data": {
      "application/vnd.jupyter.widget-view+json": {
       "model_id": "0ffb090c87c34c809e096ecce5465816",
       "version_major": 2,
       "version_minor": 0
      },
      "text/plain": [
       "Training batches on cuda:0:   0%|          | 0.00/46.0 [00:00<?, ?batch/s]"
      ]
     },
     "metadata": {},
     "output_type": "display_data"
    },
    {
     "data": {
      "application/vnd.jupyter.widget-view+json": {
       "model_id": "486d0ee1e0df4e519824da462bdda95d",
       "version_major": 2,
       "version_minor": 0
      },
      "text/plain": [
       "Training batches on cuda:0:   0%|          | 0.00/46.0 [00:00<?, ?batch/s]"
      ]
     },
     "metadata": {},
     "output_type": "display_data"
    },
    {
     "data": {
      "application/vnd.jupyter.widget-view+json": {
       "model_id": "e90136fac5114d17a92fa9a017a7bd4a",
       "version_major": 2,
       "version_minor": 0
      },
      "text/plain": [
       "Training batches on cuda:0:   0%|          | 0.00/46.0 [00:00<?, ?batch/s]"
      ]
     },
     "metadata": {},
     "output_type": "display_data"
    },
    {
     "data": {
      "application/vnd.jupyter.widget-view+json": {
       "model_id": "d8ec063ada5c4a0fa903aee5ba87b007",
       "version_major": 2,
       "version_minor": 0
      },
      "text/plain": [
       "Training batches on cuda:0:   0%|          | 0.00/46.0 [00:00<?, ?batch/s]"
      ]
     },
     "metadata": {},
     "output_type": "display_data"
    },
    {
     "data": {
      "application/vnd.jupyter.widget-view+json": {
       "model_id": "711437ca380a403c99b7ce7ec0639bef",
       "version_major": 2,
       "version_minor": 0
      },
      "text/plain": [
       "Training batches on cuda:0:   0%|          | 0.00/46.0 [00:00<?, ?batch/s]"
      ]
     },
     "metadata": {},
     "output_type": "display_data"
    },
    {
     "data": {
      "application/vnd.jupyter.widget-view+json": {
       "model_id": "4ec90a9a57624c17b634040ae2c6756c",
       "version_major": 2,
       "version_minor": 0
      },
      "text/plain": [
       "Training batches on cuda:0:   0%|          | 0.00/46.0 [00:00<?, ?batch/s]"
      ]
     },
     "metadata": {},
     "output_type": "display_data"
    },
    {
     "data": {
      "application/vnd.jupyter.widget-view+json": {
       "model_id": "b07d6443eef145f9af5f9d5974c847b4",
       "version_major": 2,
       "version_minor": 0
      },
      "text/plain": [
       "Training batches on cuda:0:   0%|          | 0.00/46.0 [00:00<?, ?batch/s]"
      ]
     },
     "metadata": {},
     "output_type": "display_data"
    },
    {
     "data": {
      "application/vnd.jupyter.widget-view+json": {
       "model_id": "236db3df0ae94ae2a2497ee242a0723e",
       "version_major": 2,
       "version_minor": 0
      },
      "text/plain": [
       "Training batches on cuda:0:   0%|          | 0.00/46.0 [00:00<?, ?batch/s]"
      ]
     },
     "metadata": {},
     "output_type": "display_data"
    },
    {
     "data": {
      "application/vnd.jupyter.widget-view+json": {
       "model_id": "8ffc277fbf0b45f3a1e1ed30302600d6",
       "version_major": 2,
       "version_minor": 0
      },
      "text/plain": [
       "Training batches on cuda:0:   0%|          | 0.00/46.0 [00:00<?, ?batch/s]"
      ]
     },
     "metadata": {},
     "output_type": "display_data"
    },
    {
     "data": {
      "application/vnd.jupyter.widget-view+json": {
       "model_id": "bdcdd8747b034fe7bcdfdc263f8ce843",
       "version_major": 2,
       "version_minor": 0
      },
      "text/plain": [
       "Training batches on cuda:0:   0%|          | 0.00/46.0 [00:00<?, ?batch/s]"
      ]
     },
     "metadata": {},
     "output_type": "display_data"
    },
    {
     "data": {
      "application/vnd.jupyter.widget-view+json": {
       "model_id": "e6e6b691fef841d3b249624e93a73472",
       "version_major": 2,
       "version_minor": 0
      },
      "text/plain": [
       "Training batches on cuda:0:   0%|          | 0.00/46.0 [00:00<?, ?batch/s]"
      ]
     },
     "metadata": {},
     "output_type": "display_data"
    },
    {
     "data": {
      "application/vnd.jupyter.widget-view+json": {
       "model_id": "f80888b156e94fd68ac783be78777fe4",
       "version_major": 2,
       "version_minor": 0
      },
      "text/plain": [
       "Training batches on cuda:0:   0%|          | 0.00/46.0 [00:00<?, ?batch/s]"
      ]
     },
     "metadata": {},
     "output_type": "display_data"
    },
    {
     "data": {
      "application/vnd.jupyter.widget-view+json": {
       "model_id": "6bd49f317170458a88285341b261186c",
       "version_major": 2,
       "version_minor": 0
      },
      "text/plain": [
       "Training batches on cuda:0:   0%|          | 0.00/46.0 [00:00<?, ?batch/s]"
      ]
     },
     "metadata": {},
     "output_type": "display_data"
    },
    {
     "data": {
      "application/vnd.jupyter.widget-view+json": {
       "model_id": "376f7c7e9b974258ac678b8822998605",
       "version_major": 2,
       "version_minor": 0
      },
      "text/plain": [
       "Training batches on cuda:0:   0%|          | 0.00/46.0 [00:00<?, ?batch/s]"
      ]
     },
     "metadata": {},
     "output_type": "display_data"
    },
    {
     "data": {
      "application/vnd.jupyter.widget-view+json": {
       "model_id": "9c20509443e54703afdf65a0fe623907",
       "version_major": 2,
       "version_minor": 0
      },
      "text/plain": [
       "Training batches on cuda:0:   0%|          | 0.00/46.0 [00:00<?, ?batch/s]"
      ]
     },
     "metadata": {},
     "output_type": "display_data"
    },
    {
     "data": {
      "application/vnd.jupyter.widget-view+json": {
       "model_id": "39128d122ded44498473b6143b1a7431",
       "version_major": 2,
       "version_minor": 0
      },
      "text/plain": [
       "Training batches on cuda:0:   0%|          | 0.00/46.0 [00:00<?, ?batch/s]"
      ]
     },
     "metadata": {},
     "output_type": "display_data"
    },
    {
     "data": {
      "application/vnd.jupyter.widget-view+json": {
       "model_id": "4fbd42afe9f14b15a66c9b1e2195581c",
       "version_major": 2,
       "version_minor": 0
      },
      "text/plain": [
       "Training batches on cuda:0:   0%|          | 0.00/46.0 [00:00<?, ?batch/s]"
      ]
     },
     "metadata": {},
     "output_type": "display_data"
    },
    {
     "data": {
      "application/vnd.jupyter.widget-view+json": {
       "model_id": "e9cfa24e995e4ad8911110896bff6eb1",
       "version_major": 2,
       "version_minor": 0
      },
      "text/plain": [
       "Training batches on cuda:0:   0%|          | 0.00/46.0 [00:00<?, ?batch/s]"
      ]
     },
     "metadata": {},
     "output_type": "display_data"
    },
    {
     "data": {
      "application/vnd.jupyter.widget-view+json": {
       "model_id": "b65318e024a44c828046f0ff329edd39",
       "version_major": 2,
       "version_minor": 0
      },
      "text/plain": [
       "Training batches on cuda:0:   0%|          | 0.00/46.0 [00:00<?, ?batch/s]"
      ]
     },
     "metadata": {},
     "output_type": "display_data"
    },
    {
     "data": {
      "application/vnd.jupyter.widget-view+json": {
       "model_id": "b6b22a86ece84788a0f515e6f6e0342b",
       "version_major": 2,
       "version_minor": 0
      },
      "text/plain": [
       "Training batches on cuda:0:   0%|          | 0.00/46.0 [00:00<?, ?batch/s]"
      ]
     },
     "metadata": {},
     "output_type": "display_data"
    },
    {
     "data": {
      "application/vnd.jupyter.widget-view+json": {
       "model_id": "29ccea3a6bd34870a25c6f055fb4a43f",
       "version_major": 2,
       "version_minor": 0
      },
      "text/plain": [
       "Training batches on cuda:0:   0%|          | 0.00/46.0 [00:00<?, ?batch/s]"
      ]
     },
     "metadata": {},
     "output_type": "display_data"
    },
    {
     "data": {
      "application/vnd.jupyter.widget-view+json": {
       "model_id": "86d0bd0e503b4389b7e36ccf7ac394a4",
       "version_major": 2,
       "version_minor": 0
      },
      "text/plain": [
       "Training batches on cuda:0:   0%|          | 0.00/46.0 [00:00<?, ?batch/s]"
      ]
     },
     "metadata": {},
     "output_type": "display_data"
    },
    {
     "data": {
      "application/vnd.jupyter.widget-view+json": {
       "model_id": "681b7edcf77548dab4bab945ae54063c",
       "version_major": 2,
       "version_minor": 0
      },
      "text/plain": [
       "Training batches on cuda:0:   0%|          | 0.00/46.0 [00:00<?, ?batch/s]"
      ]
     },
     "metadata": {},
     "output_type": "display_data"
    },
    {
     "data": {
      "application/vnd.jupyter.widget-view+json": {
       "model_id": "18382c833f054786a85ad428a4acafa5",
       "version_major": 2,
       "version_minor": 0
      },
      "text/plain": [
       "Training batches on cuda:0:   0%|          | 0.00/46.0 [00:00<?, ?batch/s]"
      ]
     },
     "metadata": {},
     "output_type": "display_data"
    },
    {
     "data": {
      "application/vnd.jupyter.widget-view+json": {
       "model_id": "efe5d8af61c241709f51b111f0ac3207",
       "version_major": 2,
       "version_minor": 0
      },
      "text/plain": [
       "Training batches on cuda:0:   0%|          | 0.00/46.0 [00:00<?, ?batch/s]"
      ]
     },
     "metadata": {},
     "output_type": "display_data"
    },
    {
     "data": {
      "application/vnd.jupyter.widget-view+json": {
       "model_id": "e72e5f48851e41b8945ccfd5a8d49445",
       "version_major": 2,
       "version_minor": 0
      },
      "text/plain": [
       "Training batches on cuda:0:   0%|          | 0.00/46.0 [00:00<?, ?batch/s]"
      ]
     },
     "metadata": {},
     "output_type": "display_data"
    },
    {
     "data": {
      "application/vnd.jupyter.widget-view+json": {
       "model_id": "fe3e9b5338b74446a2542cdd27c02f35",
       "version_major": 2,
       "version_minor": 0
      },
      "text/plain": [
       "Training batches on cuda:0:   0%|          | 0.00/46.0 [00:00<?, ?batch/s]"
      ]
     },
     "metadata": {},
     "output_type": "display_data"
    },
    {
     "data": {
      "application/vnd.jupyter.widget-view+json": {
       "model_id": "73f181b54db74e11b8d2c841043d44f1",
       "version_major": 2,
       "version_minor": 0
      },
      "text/plain": [
       "Training batches on cuda:0:   0%|          | 0.00/46.0 [00:00<?, ?batch/s]"
      ]
     },
     "metadata": {},
     "output_type": "display_data"
    },
    {
     "data": {
      "application/vnd.jupyter.widget-view+json": {
       "model_id": "ced20f84491f4927afbb08789f7486ed",
       "version_major": 2,
       "version_minor": 0
      },
      "text/plain": [
       "Training batches on cuda:0:   0%|          | 0.00/46.0 [00:00<?, ?batch/s]"
      ]
     },
     "metadata": {},
     "output_type": "display_data"
    },
    {
     "data": {
      "application/vnd.jupyter.widget-view+json": {
       "model_id": "076508bd48944da3905c523d8dd004f5",
       "version_major": 2,
       "version_minor": 0
      },
      "text/plain": [
       "Training batches on cuda:0:   0%|          | 0.00/46.0 [00:00<?, ?batch/s]"
      ]
     },
     "metadata": {},
     "output_type": "display_data"
    },
    {
     "data": {
      "application/vnd.jupyter.widget-view+json": {
       "model_id": "14e9994ff7f945d5b88dfb6fbf51b615",
       "version_major": 2,
       "version_minor": 0
      },
      "text/plain": [
       "Training batches on cuda:0:   0%|          | 0.00/46.0 [00:00<?, ?batch/s]"
      ]
     },
     "metadata": {},
     "output_type": "display_data"
    },
    {
     "data": {
      "application/vnd.jupyter.widget-view+json": {
       "model_id": "02eff0002c1b42c59b25dd8b79335c67",
       "version_major": 2,
       "version_minor": 0
      },
      "text/plain": [
       "Training batches on cuda:0:   0%|          | 0.00/46.0 [00:00<?, ?batch/s]"
      ]
     },
     "metadata": {},
     "output_type": "display_data"
    },
    {
     "data": {
      "application/vnd.jupyter.widget-view+json": {
       "model_id": "fae231073939480f827476fa5388948f",
       "version_major": 2,
       "version_minor": 0
      },
      "text/plain": [
       "Training batches on cuda:0:   0%|          | 0.00/46.0 [00:00<?, ?batch/s]"
      ]
     },
     "metadata": {},
     "output_type": "display_data"
    },
    {
     "data": {
      "application/vnd.jupyter.widget-view+json": {
       "model_id": "1d7cfe1bcec44106b89d24565b42fab2",
       "version_major": 2,
       "version_minor": 0
      },
      "text/plain": [
       "Training batches on cuda:0:   0%|          | 0.00/46.0 [00:00<?, ?batch/s]"
      ]
     },
     "metadata": {},
     "output_type": "display_data"
    },
    {
     "data": {
      "application/vnd.jupyter.widget-view+json": {
       "model_id": "f7fd60bf740342cc867dc1fe6819e2d5",
       "version_major": 2,
       "version_minor": 0
      },
      "text/plain": [
       "Training batches on cuda:0:   0%|          | 0.00/46.0 [00:00<?, ?batch/s]"
      ]
     },
     "metadata": {},
     "output_type": "display_data"
    },
    {
     "data": {
      "application/vnd.jupyter.widget-view+json": {
       "model_id": "caf6c2fe23fd4e8abe9ab653af74f84b",
       "version_major": 2,
       "version_minor": 0
      },
      "text/plain": [
       "Training batches on cuda:0:   0%|          | 0.00/46.0 [00:00<?, ?batch/s]"
      ]
     },
     "metadata": {},
     "output_type": "display_data"
    },
    {
     "data": {
      "application/vnd.jupyter.widget-view+json": {
       "model_id": "28a4e9b9f693471e8b64e3181cc27226",
       "version_major": 2,
       "version_minor": 0
      },
      "text/plain": [
       "Training batches on cuda:0:   0%|          | 0.00/46.0 [00:00<?, ?batch/s]"
      ]
     },
     "metadata": {},
     "output_type": "display_data"
    },
    {
     "data": {
      "application/vnd.jupyter.widget-view+json": {
       "model_id": "2d5d56da85e64c42803ed196e05f490a",
       "version_major": 2,
       "version_minor": 0
      },
      "text/plain": [
       "Training batches on cuda:0:   0%|          | 0.00/46.0 [00:00<?, ?batch/s]"
      ]
     },
     "metadata": {},
     "output_type": "display_data"
    },
    {
     "data": {
      "application/vnd.jupyter.widget-view+json": {
       "model_id": "74a36e72a60a4c98aea32f58ad80dbde",
       "version_major": 2,
       "version_minor": 0
      },
      "text/plain": [
       "Training batches on cuda:0:   0%|          | 0.00/46.0 [00:00<?, ?batch/s]"
      ]
     },
     "metadata": {},
     "output_type": "display_data"
    },
    {
     "data": {
      "application/vnd.jupyter.widget-view+json": {
       "model_id": "bd59285c9fcd4582a58000c13e35b63d",
       "version_major": 2,
       "version_minor": 0
      },
      "text/plain": [
       "Training batches on cuda:0:   0%|          | 0.00/46.0 [00:00<?, ?batch/s]"
      ]
     },
     "metadata": {},
     "output_type": "display_data"
    },
    {
     "data": {
      "application/vnd.jupyter.widget-view+json": {
       "model_id": "94a339439ab34930b7b98e585ff0b505",
       "version_major": 2,
       "version_minor": 0
      },
      "text/plain": [
       "Training batches on cuda:0:   0%|          | 0.00/46.0 [00:00<?, ?batch/s]"
      ]
     },
     "metadata": {},
     "output_type": "display_data"
    },
    {
     "data": {
      "application/vnd.jupyter.widget-view+json": {
       "model_id": "786581702fe948df8380274438bde780",
       "version_major": 2,
       "version_minor": 0
      },
      "text/plain": [
       "Training batches on cuda:0:   0%|          | 0.00/46.0 [00:00<?, ?batch/s]"
      ]
     },
     "metadata": {},
     "output_type": "display_data"
    },
    {
     "data": {
      "application/vnd.jupyter.widget-view+json": {
       "model_id": "66e4ac3cc687487db9f9f4d71e209d8f",
       "version_major": 2,
       "version_minor": 0
      },
      "text/plain": [
       "Training batches on cuda:0:   0%|          | 0.00/46.0 [00:00<?, ?batch/s]"
      ]
     },
     "metadata": {},
     "output_type": "display_data"
    },
    {
     "data": {
      "application/vnd.jupyter.widget-view+json": {
       "model_id": "8c1f676e072341759a1bf90f3b6d265c",
       "version_major": 2,
       "version_minor": 0
      },
      "text/plain": [
       "Evaluating on cuda:0:   0%|          | 0.00/2.88k [00:00<?, ?triple/s]"
      ]
     },
     "metadata": {},
     "output_type": "display_data"
    },
    {
     "name": "stderr",
     "output_type": "stream",
     "text": [
      "INFO:pykeen.evaluation.evaluator:Evaluation took 0.53s seconds\n"
     ]
    }
   ],
   "source": [
    "device = \"cuda\" if torch.cuda.is_available() else \"cpu\"\n",
    "\n",
    "resultTransE = pipeline(\n",
    "    training=training,\n",
    "    testing=testing,\n",
    "    model=\"TransE\",\n",
    "    model_kwargs=dict(\n",
    "        embedding_dim=128,\n",
    "    ),\n",
    "    training_kwargs=dict(\n",
    "        num_epochs=50\n",
    "    ),\n",
    "    negative_sampler_kwargs=dict(\n",
    "        num_negs_per_pos=5,\n",
    "    ),\n",
    "    random_seed=2025,\n",
    "    device = device\n",
    ")"
   ]
  },
  {
   "cell_type": "markdown",
   "id": "9f879a53",
   "metadata": {},
   "source": [
    "We choose the paper with id: \"4ab60d22-67d1-4683-8648-f1f2601d2ce0\""
   ]
  },
  {
   "cell_type": "code",
   "execution_count": 11,
   "id": "ff153c6a",
   "metadata": {},
   "outputs": [],
   "source": [
    "paper = '4ab60d22-67d1-4683-8648-f1f2601d2ce0'\n",
    "\n",
    "cites = 'cites'\n",
    "written_by = 'written_by'\n",
    "\n",
    "entity_embeddings = resultTransE.model.entity_representations[0](indices= None).detach()\n",
    "relation_embeddings = resultTransE.model.relation_representations[0](indices=None).detach()\n",
    "\n",
    "citing_paper_id = resultTransE.training.entity_to_id[paper]\n",
    "cites_id = resultTransE.training.relation_to_id[cites]\n",
    "\n",
    "citing_paper_embedding = entity_embeddings[citing_paper_id]\n",
    "cites_embedding = relation_embeddings[cites_id]\n"
   ]
  },
  {
   "cell_type": "code",
   "execution_count": 12,
   "id": "c3717ac2",
   "metadata": {},
   "outputs": [
    {
     "name": "stdout",
     "output_type": "stream",
     "text": [
      "A likely cited paper was found.\n",
      "The cited paper is: 4ab4c17b-a9ac-4f37-8e71-5977d5db5a07\n",
      "Most likely cited paper embedding vector:\n",
      "tensor([-0.0502, -0.0390, -0.2313,  0.0068,  0.0385,  0.0386, -0.1904,  0.1632,\n",
      "         0.1959,  0.0702, -0.1881,  0.0619,  0.0166, -0.0050, -0.0968,  0.2545,\n",
      "        -0.0349, -0.0888,  0.1286, -0.1457,  0.1279, -0.1073,  0.0079,  0.0201,\n",
      "        -0.0166,  0.1746,  0.1243, -0.0534, -0.0823, -0.0874, -0.0608,  0.0880,\n",
      "        -0.0561, -0.1020, -0.0227,  0.1750,  0.0651, -0.1019,  0.0642,  0.2905,\n",
      "         0.0787,  0.1933,  0.0593,  0.0326,  0.0829,  0.0034,  0.2662,  0.0779,\n",
      "         0.2340, -0.0378,  0.1816,  0.1323,  0.0621, -0.2679, -0.1196, -0.2895,\n",
      "         0.0332,  0.0253, -0.1010, -0.1703, -0.0118,  0.1329, -0.0556,  0.2032,\n",
      "        -0.2130, -0.1174, -0.0319,  0.2885,  0.2545,  0.0256,  0.1344, -0.0761,\n",
      "        -0.3492,  0.1589,  0.1141, -0.0465, -0.0035,  0.0667,  0.2326,  0.2370,\n",
      "        -0.1149,  0.1648,  0.0026, -0.0030,  0.0944,  0.1727, -0.0902, -0.0219,\n",
      "        -0.0424,  0.1338, -0.0269, -0.0057,  0.0449,  0.0913, -0.0877, -0.0684,\n",
      "         0.0459, -0.0912,  0.3258, -0.0177, -0.1019, -0.1890, -0.0511, -0.0635,\n",
      "         0.0082, -0.0375, -0.0179, -0.0668,  0.3000,  0.0604, -0.1473, -0.0269,\n",
      "        -0.1012,  0.1859,  0.1336,  0.2534,  0.0363,  0.1155, -0.1555, -0.0553,\n",
      "        -0.3831, -0.0163, -0.0608,  0.0467,  0.1244, -0.1469, -0.1392, -0.1446],\n",
      "       device='cuda:0')\n",
      "\n"
     ]
    }
   ],
   "source": [
    "# Compute the estimated embedding of the cited paper\n",
    "cited_paper_embedding = citing_paper_embedding + cites_embedding\n",
    "\n",
    "# Compute Euclidean distances to all entities\n",
    "distances = torch.norm(entity_embeddings - cited_paper_embedding.unsqueeze(0), p=2, dim=1)\n",
    "sorted_distances, sorted_indices = torch.sort(distances)\n",
    "\n",
    "# Find the closest entity that is not the citing paper itself\n",
    "top_cited_paper_id = -1\n",
    "for index in sorted_indices:\n",
    "    if index != citing_paper_id:\n",
    "        top_cited_paper_id = index.item()\n",
    "        break\n",
    "\n",
    "# Output the result\n",
    "if top_cited_paper_id != -1:\n",
    "    print('A likely cited paper was found.')\n",
    "    print(f'The cited paper is: {resultTransE.training.entity_id_to_label[top_cited_paper_id]}')\n",
    "    print(f'Most likely cited paper embedding vector:\\n{cited_paper_embedding}\\n')\n",
    "else:\n",
    "    print('No likely cited paper found.')"
   ]
  },
  {
   "cell_type": "code",
   "execution_count": 13,
   "id": "c1a0b960",
   "metadata": {},
   "outputs": [
    {
     "name": "stdout",
     "output_type": "stream",
     "text": [
      "The most likely author embedding vector: \n",
      " tensor([ 0.0511,  0.1514, -0.1916, -0.1330,  0.1763,  0.0659, -0.0452, -0.0499,\n",
      "         0.1282,  0.2463, -0.2103, -0.0059, -0.1070,  0.1279, -0.0563,  0.4066,\n",
      "         0.1531, -0.1321,  0.2459, -0.2418,  0.2731, -0.1456, -0.1165, -0.0375,\n",
      "        -0.0644,  0.3348,  0.1070,  0.0278, -0.0406, -0.1263,  0.0497, -0.0250,\n",
      "         0.0846, -0.0754, -0.1280,  0.2726, -0.0084,  0.0073,  0.1710,  0.3754,\n",
      "         0.2144,  0.3429,  0.0069, -0.0272,  0.1530, -0.0498,  0.1433,  0.0107,\n",
      "         0.2685,  0.0202,  0.1836,  0.2931,  0.1400, -0.1312, -0.0170, -0.0975,\n",
      "        -0.0921,  0.2146,  0.0037, -0.0297, -0.0329,  0.0338, -0.0289,  0.3131,\n",
      "        -0.1106, -0.1719,  0.0490,  0.3292,  0.1801, -0.0548, -0.0152, -0.1997,\n",
      "        -0.3637,  0.0467, -0.0467, -0.0945, -0.0533,  0.2119,  0.3285,  0.3912,\n",
      "        -0.0099,  0.0381,  0.0917,  0.1293,  0.0108,  0.3269,  0.0742,  0.0770,\n",
      "        -0.1503,  0.0914, -0.1909, -0.1501, -0.0799, -0.0066, -0.0034, -0.1452,\n",
      "        -0.0525, -0.0079,  0.2863,  0.0402, -0.1504, -0.2136, -0.0877, -0.0836,\n",
      "        -0.1024, -0.1667, -0.0770,  0.0593,  0.1376, -0.0937, -0.0524, -0.1784,\n",
      "        -0.2834,  0.0375,  0.2748,  0.3233,  0.1133, -0.0388,  0.0163,  0.0269,\n",
      "        -0.3273,  0.1053,  0.0778,  0.1521, -0.0209, -0.2227, -0.0742, -0.1259],\n",
      "       device='cuda:0')\n"
     ]
    }
   ],
   "source": [
    "written_by_id = resultTransE.training.relation_to_id[written_by]\n",
    "written_by_embedding = relation_embeddings[written_by_id]\n",
    "\n",
    "author_embedding = cited_paper_embedding + written_by_embedding\n",
    "\n",
    "print(f'The most likely author embedding vector: \\n {author_embedding}')"
   ]
  },
  {
   "cell_type": "code",
   "execution_count": 14,
   "id": "21fa68e5",
   "metadata": {},
   "outputs": [
    {
     "name": "stdout",
     "output_type": "stream",
     "text": [
      "The most likely author is: AUTHOR_331\n"
     ]
    }
   ],
   "source": [
    "distances = torch.norm(entity_embeddings - author_embedding.unsqueeze(0), p=2, dim=1)  # Euclidean Distance\n",
    "sorted_distances, sorted_indices = torch.sort(distances)\n",
    "\n",
    "top_author_id = -1\n",
    "for index in sorted_indices:\n",
    "    if index != citing_paper_id:\n",
    "        top_author_id = index.item()\n",
    "        break\n",
    "if top_author_id != -1:\n",
    "    top_author = resultTransE.training.entity_id_to_label[top_author_id]\n",
    "\n",
    "    print(f'The most likely author is: {top_author}')"
   ]
  }
 ],
 "metadata": {
  "kernelspec": {
   "display_name": "Python 3",
   "language": "python",
   "name": "python3"
  },
  "language_info": {
   "codemirror_mode": {
    "name": "ipython",
    "version": 3
   },
   "file_extension": ".py",
   "mimetype": "text/x-python",
   "name": "python",
   "nbconvert_exporter": "python",
   "pygments_lexer": "ipython3",
   "version": "3.11.0"
  }
 },
 "nbformat": 4,
 "nbformat_minor": 5
}
