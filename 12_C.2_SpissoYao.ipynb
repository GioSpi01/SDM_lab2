{
 "cells": [
  {
   "cell_type": "code",
   "execution_count": 59,
   "id": "982f8407",
   "metadata": {},
   "outputs": [],
   "source": [
    "import torch\n",
    "import pykeen\n",
    "import pandas as pd\n",
    "from pykeen import predict\n",
    "from pykeen.pipeline import pipeline\n",
    "from pykeen.triples import TriplesFactory\n",
    "import numpy as np\n",
    "\n",
    "file_path = 'C.1_query.tsv'"
   ]
  },
  {
   "cell_type": "code",
   "execution_count": 60,
   "id": "f6dc10b4",
   "metadata": {},
   "outputs": [
    {
     "name": "stderr",
     "output_type": "stream",
     "text": [
      "INFO:pykeen.triples.splitting:done splitting triples to groups of sizes [11148, 3066]\n"
     ]
    }
   ],
   "source": [
    "tf = TriplesFactory.from_path(file_path, delimiter=\"\\t\")\n",
    "training, testing = tf.split([0.8, 0.2], random_state=2025)"
   ]
  },
  {
   "cell_type": "markdown",
   "id": "d704a726",
   "metadata": {},
   "source": [
    "## The Most Basic Model"
   ]
  },
  {
   "cell_type": "code",
   "execution_count": 61,
   "id": "f9de075f",
   "metadata": {},
   "outputs": [
    {
     "name": "stderr",
     "output_type": "stream",
     "text": [
      "INFO:pykeen.pipeline.api:Using device: cuda\n",
      "INFO:pykeen.nn.representation:Inferred unique=False for Embedding()\n",
      "INFO:pykeen.nn.representation:Inferred unique=False for Embedding()\n"
     ]
    },
    {
     "data": {
      "application/vnd.jupyter.widget-view+json": {
       "model_id": "04e5a30a91484b23870949dcdd5771df",
       "version_major": 2,
       "version_minor": 0
      },
      "text/plain": [
       "Training epochs on cuda:0:   0%|          | 0/20 [00:00<?, ?epoch/s]"
      ]
     },
     "metadata": {},
     "output_type": "display_data"
    },
    {
     "data": {
      "application/vnd.jupyter.widget-view+json": {
       "model_id": "e143fa826eec43c7ba2344d4792c7ff8",
       "version_major": 2,
       "version_minor": 0
      },
      "text/plain": [
       "Training batches on cuda:0:   0%|          | 0.00/48.0 [00:00<?, ?batch/s]"
      ]
     },
     "metadata": {},
     "output_type": "display_data"
    },
    {
     "data": {
      "application/vnd.jupyter.widget-view+json": {
       "model_id": "4a349612970f4b2da3975bf27e56ee46",
       "version_major": 2,
       "version_minor": 0
      },
      "text/plain": [
       "Training batches on cuda:0:   0%|          | 0.00/48.0 [00:00<?, ?batch/s]"
      ]
     },
     "metadata": {},
     "output_type": "display_data"
    },
    {
     "data": {
      "application/vnd.jupyter.widget-view+json": {
       "model_id": "ae5073435c6142e0986d1057ba2a7a07",
       "version_major": 2,
       "version_minor": 0
      },
      "text/plain": [
       "Training batches on cuda:0:   0%|          | 0.00/48.0 [00:00<?, ?batch/s]"
      ]
     },
     "metadata": {},
     "output_type": "display_data"
    },
    {
     "data": {
      "application/vnd.jupyter.widget-view+json": {
       "model_id": "4673357c77ab4406a7d36749a0ad2edd",
       "version_major": 2,
       "version_minor": 0
      },
      "text/plain": [
       "Training batches on cuda:0:   0%|          | 0.00/48.0 [00:00<?, ?batch/s]"
      ]
     },
     "metadata": {},
     "output_type": "display_data"
    },
    {
     "data": {
      "application/vnd.jupyter.widget-view+json": {
       "model_id": "de9fd92ddeee491db63097d70a929035",
       "version_major": 2,
       "version_minor": 0
      },
      "text/plain": [
       "Training batches on cuda:0:   0%|          | 0.00/48.0 [00:00<?, ?batch/s]"
      ]
     },
     "metadata": {},
     "output_type": "display_data"
    },
    {
     "data": {
      "application/vnd.jupyter.widget-view+json": {
       "model_id": "6d157747ca244242a085ba8975d6bc11",
       "version_major": 2,
       "version_minor": 0
      },
      "text/plain": [
       "Training batches on cuda:0:   0%|          | 0.00/48.0 [00:00<?, ?batch/s]"
      ]
     },
     "metadata": {},
     "output_type": "display_data"
    },
    {
     "data": {
      "application/vnd.jupyter.widget-view+json": {
       "model_id": "e2e10973df654401a801172b1d0bbfe6",
       "version_major": 2,
       "version_minor": 0
      },
      "text/plain": [
       "Training batches on cuda:0:   0%|          | 0.00/48.0 [00:00<?, ?batch/s]"
      ]
     },
     "metadata": {},
     "output_type": "display_data"
    },
    {
     "data": {
      "application/vnd.jupyter.widget-view+json": {
       "model_id": "81ad6dafb18f4c8f84a5da318bd855a9",
       "version_major": 2,
       "version_minor": 0
      },
      "text/plain": [
       "Training batches on cuda:0:   0%|          | 0.00/48.0 [00:00<?, ?batch/s]"
      ]
     },
     "metadata": {},
     "output_type": "display_data"
    },
    {
     "data": {
      "application/vnd.jupyter.widget-view+json": {
       "model_id": "7235387d7710418994a5c67dc7ce238a",
       "version_major": 2,
       "version_minor": 0
      },
      "text/plain": [
       "Training batches on cuda:0:   0%|          | 0.00/48.0 [00:00<?, ?batch/s]"
      ]
     },
     "metadata": {},
     "output_type": "display_data"
    },
    {
     "data": {
      "application/vnd.jupyter.widget-view+json": {
       "model_id": "11a5d3ffaef8444e9848f71c8a750475",
       "version_major": 2,
       "version_minor": 0
      },
      "text/plain": [
       "Training batches on cuda:0:   0%|          | 0.00/48.0 [00:00<?, ?batch/s]"
      ]
     },
     "metadata": {},
     "output_type": "display_data"
    },
    {
     "data": {
      "application/vnd.jupyter.widget-view+json": {
       "model_id": "2f97789ac4774debb38361a3208e9a2a",
       "version_major": 2,
       "version_minor": 0
      },
      "text/plain": [
       "Training batches on cuda:0:   0%|          | 0.00/48.0 [00:00<?, ?batch/s]"
      ]
     },
     "metadata": {},
     "output_type": "display_data"
    },
    {
     "data": {
      "application/vnd.jupyter.widget-view+json": {
       "model_id": "400dc67b2ab24252a5e83027081aee88",
       "version_major": 2,
       "version_minor": 0
      },
      "text/plain": [
       "Training batches on cuda:0:   0%|          | 0.00/48.0 [00:00<?, ?batch/s]"
      ]
     },
     "metadata": {},
     "output_type": "display_data"
    },
    {
     "data": {
      "application/vnd.jupyter.widget-view+json": {
       "model_id": "093601f889c244e58cacc2528062e70a",
       "version_major": 2,
       "version_minor": 0
      },
      "text/plain": [
       "Training batches on cuda:0:   0%|          | 0.00/48.0 [00:00<?, ?batch/s]"
      ]
     },
     "metadata": {},
     "output_type": "display_data"
    },
    {
     "data": {
      "application/vnd.jupyter.widget-view+json": {
       "model_id": "3d59ac28666a4f0c81ccaf46423462df",
       "version_major": 2,
       "version_minor": 0
      },
      "text/plain": [
       "Training batches on cuda:0:   0%|          | 0.00/48.0 [00:00<?, ?batch/s]"
      ]
     },
     "metadata": {},
     "output_type": "display_data"
    },
    {
     "data": {
      "application/vnd.jupyter.widget-view+json": {
       "model_id": "305f888a8b5446f1921de10510ff1302",
       "version_major": 2,
       "version_minor": 0
      },
      "text/plain": [
       "Training batches on cuda:0:   0%|          | 0.00/48.0 [00:00<?, ?batch/s]"
      ]
     },
     "metadata": {},
     "output_type": "display_data"
    },
    {
     "data": {
      "application/vnd.jupyter.widget-view+json": {
       "model_id": "b37d4b3a3846437fa0f0c738c9326ff9",
       "version_major": 2,
       "version_minor": 0
      },
      "text/plain": [
       "Training batches on cuda:0:   0%|          | 0.00/48.0 [00:00<?, ?batch/s]"
      ]
     },
     "metadata": {},
     "output_type": "display_data"
    },
    {
     "data": {
      "application/vnd.jupyter.widget-view+json": {
       "model_id": "20986a66d0f044c7bdc2805eba8f0a38",
       "version_major": 2,
       "version_minor": 0
      },
      "text/plain": [
       "Training batches on cuda:0:   0%|          | 0.00/48.0 [00:00<?, ?batch/s]"
      ]
     },
     "metadata": {},
     "output_type": "display_data"
    },
    {
     "data": {
      "application/vnd.jupyter.widget-view+json": {
       "model_id": "1bb015d59763427f9a0ee0ca88bc7f10",
       "version_major": 2,
       "version_minor": 0
      },
      "text/plain": [
       "Training batches on cuda:0:   0%|          | 0.00/48.0 [00:00<?, ?batch/s]"
      ]
     },
     "metadata": {},
     "output_type": "display_data"
    },
    {
     "data": {
      "application/vnd.jupyter.widget-view+json": {
       "model_id": "386009a998084096a794ddec51e24f33",
       "version_major": 2,
       "version_minor": 0
      },
      "text/plain": [
       "Training batches on cuda:0:   0%|          | 0.00/48.0 [00:00<?, ?batch/s]"
      ]
     },
     "metadata": {},
     "output_type": "display_data"
    },
    {
     "data": {
      "application/vnd.jupyter.widget-view+json": {
       "model_id": "ec0588c284324d48a135ca2a8e550b30",
       "version_major": 2,
       "version_minor": 0
      },
      "text/plain": [
       "Training batches on cuda:0:   0%|          | 0.00/48.0 [00:00<?, ?batch/s]"
      ]
     },
     "metadata": {},
     "output_type": "display_data"
    },
    {
     "data": {
      "application/vnd.jupyter.widget-view+json": {
       "model_id": "46dd14ecf7d24eeab51281eb07d50ed0",
       "version_major": 2,
       "version_minor": 0
      },
      "text/plain": [
       "Evaluating on cuda:0:   0%|          | 0.00/3.07k [00:00<?, ?triple/s]"
      ]
     },
     "metadata": {},
     "output_type": "display_data"
    },
    {
     "name": "stderr",
     "output_type": "stream",
     "text": [
      "INFO:pykeen.evaluation.evaluator:Evaluation took 0.56s seconds\n"
     ]
    }
   ],
   "source": [
    "device = \"cuda\" if torch.cuda.is_available() else \"cpu\"\n",
    "\n",
    "resultTransE = pipeline(\n",
    "    training=training,\n",
    "    testing=testing,\n",
    "    model=\"TransE\",\n",
    "    model_kwargs=dict(\n",
    "        embedding_dim=128,\n",
    "    ),\n",
    "    training_kwargs=dict(\n",
    "        num_epochs=20\n",
    "    ),\n",
    "    negative_sampler_kwargs=dict(\n",
    "        num_negs_per_pos=5,\n",
    "    ),\n",
    "    random_seed=2025,\n",
    "    device = device\n",
    ")"
   ]
  },
  {
   "cell_type": "markdown",
   "id": "9f879a53",
   "metadata": {},
   "source": [
    "We choose the paper with its id \"4ab60d22-67d1-4683-8648-f1f2601d2ce0\""
   ]
  },
  {
   "cell_type": "code",
   "execution_count": 62,
   "id": "ff153c6a",
   "metadata": {},
   "outputs": [],
   "source": [
    "paper = '4ab60d22-67d1-4683-8648-f1f2601d2ce0'\n",
    "\n",
    "cites = 'cites'\n",
    "written_by = 'written_by'\n",
    "\n",
    "entity_embeddings = resultTransE.model.entity_representations[0](indices= None).detach()\n",
    "relation_embeddings = resultTransE.model.relation_representations[0](indices=None).detach()\n",
    "\n",
    "citing_paper_id = resultTransE.training.entity_to_id[paper]\n",
    "cites_id = resultTransE.training.relation_to_id[cites]\n",
    "\n",
    "citing_paper_embedding = entity_embeddings[citing_paper_id]\n",
    "cites_embedding = relation_embeddings[cites_id]\n"
   ]
  },
  {
   "cell_type": "code",
   "execution_count": 63,
   "id": "c3717ac2",
   "metadata": {},
   "outputs": [
    {
     "name": "stdout",
     "output_type": "stream",
     "text": [
      "Exist the most likely cited paper\n",
      "The most likely cited paper embedding vector: \n",
      " tensor([-0.0153,  0.0196, -0.1119, -0.2186,  0.2171, -0.0996, -0.0183, -0.0590,\n",
      "         0.0347, -0.3698,  0.0098,  0.2149,  0.0916, -0.4350, -0.0132, -0.0311,\n",
      "         0.1624,  0.0806, -0.2477, -0.0835, -0.2188,  0.2290, -0.0873, -0.0931,\n",
      "         0.1271, -0.0079,  0.0984, -0.1075, -0.1624,  0.0576,  0.1929,  0.3720,\n",
      "         0.0327, -0.0503, -0.3467,  0.0171,  0.0278,  0.0174,  0.0968,  0.0798,\n",
      "         0.0268,  0.0476,  0.2603,  0.0722,  0.0714,  0.1331,  0.0545, -0.0324,\n",
      "        -0.0312, -0.0274, -0.0849, -0.1099, -0.0682,  0.0391, -0.0052, -0.0980,\n",
      "        -0.0384, -0.2715, -0.1670, -0.0306, -0.4379, -0.0538,  0.3252, -0.0274,\n",
      "        -0.1557, -0.0585, -0.2041, -0.0232,  0.3090, -0.0941, -0.1004, -0.0100,\n",
      "        -0.0698,  0.0400, -0.2241,  0.0232, -0.1309,  0.1026,  0.1558,  0.0290,\n",
      "        -0.2874,  0.0782, -0.1035,  0.0807, -0.0422,  0.1053, -0.0696, -0.3336,\n",
      "        -0.0695, -0.0994, -0.0987, -0.0998, -0.1656,  0.2091, -0.0387,  0.0330,\n",
      "        -0.0387,  0.1839, -0.0293,  0.0040, -0.1586, -0.3084, -0.0279,  0.0321,\n",
      "        -0.0505, -0.0917, -0.0831,  0.0421,  0.0376,  0.2575, -0.3852,  0.2828,\n",
      "         0.1241, -0.0108,  0.3586, -0.2636, -0.2102, -0.0797,  0.0556,  0.0366,\n",
      "         0.0391,  0.1427,  0.0177,  0.3861, -0.0748,  0.0914, -0.2293,  0.0422],\n",
      "       device='cuda:0')\n",
      "\n"
     ]
    }
   ],
   "source": [
    "cited_paper_embedding = citing_paper_embedding + cites_embedding\n",
    "\n",
    "distances = torch.norm(entity_embeddings - cited_paper_embedding.unsqueeze(0), p=2, dim=1)  # Euclidean Distance\n",
    "sorted_distances, sorted_indices = torch.sort(distances)\n",
    "\n",
    "\n",
    "# Check if the cited paper exists\n",
    "top_cited_paper_id = -1\n",
    "for index in sorted_indices:\n",
    "    if index != citing_paper_id:\n",
    "        top_cited_paper_id = index.item()\n",
    "        break\n",
    "if top_cited_paper_id != -1:\n",
    "    print('Exist the most likely cited paper')\n",
    "    # print(resultTransE.training.entity_id_to_label[top_cited_paper_id])\n",
    "    print(f'The most likely cited paper embedding vector: \\n {cited_paper_embedding}\\n')\n",
    "else:\n",
    "    print(f'Not exist the most likely cited paper')"
   ]
  },
  {
   "cell_type": "code",
   "execution_count": 64,
   "id": "c1a0b960",
   "metadata": {},
   "outputs": [
    {
     "name": "stdout",
     "output_type": "stream",
     "text": [
      "The most likely author embedding vector: \n",
      " tensor([-0.0596, -0.1272, -0.0987, -0.1236,  0.0834, -0.0604,  0.0774, -0.1767,\n",
      "         0.0990, -0.4991,  0.1285,  0.0663,  0.1928, -0.2541, -0.1201,  0.0207,\n",
      "         0.3781,  0.0579, -0.2186, -0.0316, -0.2454,  0.3289,  0.0854,  0.0028,\n",
      "         0.0452,  0.1527,  0.1394, -0.1300, -0.0288,  0.0382,  0.1595,  0.4215,\n",
      "         0.1607, -0.2039, -0.2075, -0.0007,  0.0467,  0.0329,  0.0525,  0.1158,\n",
      "        -0.0060,  0.0012,  0.1678,  0.2500,  0.0433,  0.0531,  0.1357,  0.0033,\n",
      "         0.0450, -0.1339,  0.1360,  0.0471, -0.0129,  0.0196, -0.1828,  0.0964,\n",
      "         0.0726, -0.3165, -0.0575, -0.0146, -0.3383,  0.0318,  0.2626, -0.1863,\n",
      "        -0.0621,  0.0766, -0.2621, -0.0150,  0.2354,  0.0452, -0.0377, -0.0680,\n",
      "         0.0406, -0.1972, -0.2238, -0.1162,  0.0657,  0.0163, -0.0227,  0.1939,\n",
      "        -0.2340, -0.0911, -0.0281,  0.0110, -0.0014,  0.0125,  0.0070, -0.1916,\n",
      "        -0.0075, -0.0469, -0.0238, -0.1663, -0.1013,  0.0134, -0.0124, -0.0593,\n",
      "         0.0276,  0.3728,  0.0560, -0.0946, -0.0547, -0.3595,  0.1060,  0.1127,\n",
      "        -0.1815, -0.0475, -0.2118,  0.0647,  0.1208,  0.4447, -0.5864,  0.2351,\n",
      "        -0.0267,  0.1223,  0.5737, -0.2013, -0.0947, -0.1775,  0.0034, -0.1812,\n",
      "        -0.0474,  0.0636, -0.1162,  0.2801, -0.0409,  0.1007, -0.3508, -0.1039],\n",
      "       device='cuda:0')\n"
     ]
    }
   ],
   "source": [
    "written_by_id = resultTransE.training.relation_to_id[written_by]\n",
    "written_by_embedding = relation_embeddings[written_by_id]\n",
    "\n",
    "author_embedding = cited_paper_embedding + written_by_embedding\n",
    "\n",
    "print(f'The most likely author embedding vector: \\n {author_embedding}')"
   ]
  },
  {
   "cell_type": "code",
   "execution_count": 65,
   "id": "21fa68e5",
   "metadata": {},
   "outputs": [
    {
     "name": "stdout",
     "output_type": "stream",
     "text": [
      "The most likely author is: AUTHOR_336\n"
     ]
    }
   ],
   "source": [
    "distances = torch.norm(entity_embeddings - author_embedding.unsqueeze(0), p=2, dim=1)  # Euclidean Distance\n",
    "sorted_distances, sorted_indices = torch.sort(distances)\n",
    "\n",
    "top_author_id = -1\n",
    "for index in sorted_indices:\n",
    "    if index != citing_paper_id:\n",
    "        top_author_id = index.item()\n",
    "        break\n",
    "if top_author_id != -1:\n",
    "    top_author = resultTransE.training.entity_id_to_label[top_author_id]\n",
    "\n",
    "    print(f'The most likely author is: {top_author}')"
   ]
  }
 ],
 "metadata": {
  "kernelspec": {
   "display_name": "Python 3",
   "language": "python",
   "name": "python3"
  },
  "language_info": {
   "codemirror_mode": {
    "name": "ipython",
    "version": 3
   },
   "file_extension": ".py",
   "mimetype": "text/x-python",
   "name": "python",
   "nbconvert_exporter": "python",
   "pygments_lexer": "ipython3",
   "version": "3.11.0"
  }
 },
 "nbformat": 4,
 "nbformat_minor": 5
}
