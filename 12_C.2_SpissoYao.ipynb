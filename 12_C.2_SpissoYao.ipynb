{
 "cells": [
  {
   "cell_type": "code",
   "execution_count": 1,
   "id": "982f8407",
   "metadata": {},
   "outputs": [],
   "source": [
    "import torch\n",
    "import pykeen\n",
    "import pandas as pd\n",
    "from pykeen import predict\n",
    "from pykeen.pipeline import pipeline\n",
    "from pykeen.triples import TriplesFactory\n",
    "import numpy as np\n",
    "\n",
    "file_path = 'C.1_query.tsv'"
   ]
  },
  {
   "cell_type": "code",
   "execution_count": 2,
   "id": "f6dc10b4",
   "metadata": {},
   "outputs": [],
   "source": [
    "tf = TriplesFactory.from_path(file_path, delimiter=\"\\t\")\n",
    "training, testing = tf.split([0.8, 0.2], random_state=2025)"
   ]
  },
  {
   "cell_type": "markdown",
   "id": "d704a726",
   "metadata": {},
   "source": [
    "## The Most Basic Model"
   ]
  },
  {
   "cell_type": "code",
   "execution_count": 3,
   "id": "f9de075f",
   "metadata": {},
   "outputs": [
    {
     "data": {
      "application/vnd.jupyter.widget-view+json": {
       "model_id": "7a73b5d76c4e42a796a10e434081dde3",
       "version_major": 2,
       "version_minor": 0
      },
      "text/plain": [
       "Training epochs on cuda:0:   0%|          | 0/20 [00:00<?, ?epoch/s]"
      ]
     },
     "metadata": {},
     "output_type": "display_data"
    },
    {
     "data": {
      "application/vnd.jupyter.widget-view+json": {
       "model_id": "9288096ebb034c129ccf060bae0d7c3f",
       "version_major": 2,
       "version_minor": 0
      },
      "text/plain": [
       "Training batches on cuda:0:   0%|          | 0.00/52.0 [00:00<?, ?batch/s]"
      ]
     },
     "metadata": {},
     "output_type": "display_data"
    },
    {
     "data": {
      "application/vnd.jupyter.widget-view+json": {
       "model_id": "c5af2ce3e35e4c10b9056f7481815583",
       "version_major": 2,
       "version_minor": 0
      },
      "text/plain": [
       "Training batches on cuda:0:   0%|          | 0.00/52.0 [00:00<?, ?batch/s]"
      ]
     },
     "metadata": {},
     "output_type": "display_data"
    },
    {
     "data": {
      "application/vnd.jupyter.widget-view+json": {
       "model_id": "451e67ab358f41889928835daba00eb6",
       "version_major": 2,
       "version_minor": 0
      },
      "text/plain": [
       "Training batches on cuda:0:   0%|          | 0.00/52.0 [00:00<?, ?batch/s]"
      ]
     },
     "metadata": {},
     "output_type": "display_data"
    },
    {
     "data": {
      "application/vnd.jupyter.widget-view+json": {
       "model_id": "c86975338cf245779bf05db21f0a8e63",
       "version_major": 2,
       "version_minor": 0
      },
      "text/plain": [
       "Training batches on cuda:0:   0%|          | 0.00/52.0 [00:00<?, ?batch/s]"
      ]
     },
     "metadata": {},
     "output_type": "display_data"
    },
    {
     "data": {
      "application/vnd.jupyter.widget-view+json": {
       "model_id": "51718c2db7884d39b7033adacdb3f52f",
       "version_major": 2,
       "version_minor": 0
      },
      "text/plain": [
       "Training batches on cuda:0:   0%|          | 0.00/52.0 [00:00<?, ?batch/s]"
      ]
     },
     "metadata": {},
     "output_type": "display_data"
    },
    {
     "data": {
      "application/vnd.jupyter.widget-view+json": {
       "model_id": "4c8000f6189540ae9e46c8719af12abb",
       "version_major": 2,
       "version_minor": 0
      },
      "text/plain": [
       "Training batches on cuda:0:   0%|          | 0.00/52.0 [00:00<?, ?batch/s]"
      ]
     },
     "metadata": {},
     "output_type": "display_data"
    },
    {
     "data": {
      "application/vnd.jupyter.widget-view+json": {
       "model_id": "6f89d52dab2f4d3b94b6456bd1b93427",
       "version_major": 2,
       "version_minor": 0
      },
      "text/plain": [
       "Training batches on cuda:0:   0%|          | 0.00/52.0 [00:00<?, ?batch/s]"
      ]
     },
     "metadata": {},
     "output_type": "display_data"
    },
    {
     "data": {
      "application/vnd.jupyter.widget-view+json": {
       "model_id": "607ea5f5a18641f2802d90c99ff6f7dc",
       "version_major": 2,
       "version_minor": 0
      },
      "text/plain": [
       "Training batches on cuda:0:   0%|          | 0.00/52.0 [00:00<?, ?batch/s]"
      ]
     },
     "metadata": {},
     "output_type": "display_data"
    },
    {
     "data": {
      "application/vnd.jupyter.widget-view+json": {
       "model_id": "b0cbb9f8e1ff467984da1ec915e5698b",
       "version_major": 2,
       "version_minor": 0
      },
      "text/plain": [
       "Training batches on cuda:0:   0%|          | 0.00/52.0 [00:00<?, ?batch/s]"
      ]
     },
     "metadata": {},
     "output_type": "display_data"
    },
    {
     "data": {
      "application/vnd.jupyter.widget-view+json": {
       "model_id": "28cf2edad1564402a3e6800f3610762e",
       "version_major": 2,
       "version_minor": 0
      },
      "text/plain": [
       "Training batches on cuda:0:   0%|          | 0.00/52.0 [00:00<?, ?batch/s]"
      ]
     },
     "metadata": {},
     "output_type": "display_data"
    },
    {
     "data": {
      "application/vnd.jupyter.widget-view+json": {
       "model_id": "4d5dd88965924dbaa48eb07b73ac2afc",
       "version_major": 2,
       "version_minor": 0
      },
      "text/plain": [
       "Training batches on cuda:0:   0%|          | 0.00/52.0 [00:00<?, ?batch/s]"
      ]
     },
     "metadata": {},
     "output_type": "display_data"
    },
    {
     "data": {
      "application/vnd.jupyter.widget-view+json": {
       "model_id": "820279bdef5946e380d44b1f21c720ca",
       "version_major": 2,
       "version_minor": 0
      },
      "text/plain": [
       "Training batches on cuda:0:   0%|          | 0.00/52.0 [00:00<?, ?batch/s]"
      ]
     },
     "metadata": {},
     "output_type": "display_data"
    },
    {
     "data": {
      "application/vnd.jupyter.widget-view+json": {
       "model_id": "a4217de2324a4c4c8cda6b690806c3f2",
       "version_major": 2,
       "version_minor": 0
      },
      "text/plain": [
       "Training batches on cuda:0:   0%|          | 0.00/52.0 [00:00<?, ?batch/s]"
      ]
     },
     "metadata": {},
     "output_type": "display_data"
    },
    {
     "data": {
      "application/vnd.jupyter.widget-view+json": {
       "model_id": "d627e0ebfa2b406aa527a9c670fe64ba",
       "version_major": 2,
       "version_minor": 0
      },
      "text/plain": [
       "Training batches on cuda:0:   0%|          | 0.00/52.0 [00:00<?, ?batch/s]"
      ]
     },
     "metadata": {},
     "output_type": "display_data"
    },
    {
     "data": {
      "application/vnd.jupyter.widget-view+json": {
       "model_id": "6c82af14b717488f960e311ee911c3d2",
       "version_major": 2,
       "version_minor": 0
      },
      "text/plain": [
       "Training batches on cuda:0:   0%|          | 0.00/52.0 [00:00<?, ?batch/s]"
      ]
     },
     "metadata": {},
     "output_type": "display_data"
    },
    {
     "data": {
      "application/vnd.jupyter.widget-view+json": {
       "model_id": "c972972d16f646b1a21b3172b6ec369a",
       "version_major": 2,
       "version_minor": 0
      },
      "text/plain": [
       "Training batches on cuda:0:   0%|          | 0.00/52.0 [00:00<?, ?batch/s]"
      ]
     },
     "metadata": {},
     "output_type": "display_data"
    },
    {
     "data": {
      "application/vnd.jupyter.widget-view+json": {
       "model_id": "4bdcc29a593f4a55abb09f03ad9afe80",
       "version_major": 2,
       "version_minor": 0
      },
      "text/plain": [
       "Training batches on cuda:0:   0%|          | 0.00/52.0 [00:00<?, ?batch/s]"
      ]
     },
     "metadata": {},
     "output_type": "display_data"
    },
    {
     "data": {
      "application/vnd.jupyter.widget-view+json": {
       "model_id": "be7ad07ec1eb44a3a82a80b6517ae551",
       "version_major": 2,
       "version_minor": 0
      },
      "text/plain": [
       "Training batches on cuda:0:   0%|          | 0.00/52.0 [00:00<?, ?batch/s]"
      ]
     },
     "metadata": {},
     "output_type": "display_data"
    },
    {
     "data": {
      "application/vnd.jupyter.widget-view+json": {
       "model_id": "fac04cf9e99048b78a94001343233534",
       "version_major": 2,
       "version_minor": 0
      },
      "text/plain": [
       "Training batches on cuda:0:   0%|          | 0.00/52.0 [00:00<?, ?batch/s]"
      ]
     },
     "metadata": {},
     "output_type": "display_data"
    },
    {
     "data": {
      "application/vnd.jupyter.widget-view+json": {
       "model_id": "5906073d15734b778bab7ddd809ecf53",
       "version_major": 2,
       "version_minor": 0
      },
      "text/plain": [
       "Training batches on cuda:0:   0%|          | 0.00/52.0 [00:00<?, ?batch/s]"
      ]
     },
     "metadata": {},
     "output_type": "display_data"
    },
    {
     "data": {
      "application/vnd.jupyter.widget-view+json": {
       "model_id": "cf1543ce59684fd3ade61fe52ce3daa9",
       "version_major": 2,
       "version_minor": 0
      },
      "text/plain": [
       "Evaluating on cuda:0:   0%|          | 0.00/3.28k [00:00<?, ?triple/s]"
      ]
     },
     "metadata": {},
     "output_type": "display_data"
    },
    {
     "name": "stderr",
     "output_type": "stream",
     "text": [
      "c:\\Users\\usuario\\AppData\\Local\\Programs\\Python\\Python311\\Lib\\site-packages\\pykeen\\utils.py:508: RuntimeWarning: overflow encountered in scalar add\n",
      "  return sum(\n",
      "INFO:pykeen.evaluation.evaluator:Evaluation took 12.53s seconds\n"
     ]
    }
   ],
   "source": [
    "device = \"cuda\" if torch.cuda.is_available() else \"cpu\"\n",
    "\n",
    "resultTransE = pipeline(\n",
    "    training=training,\n",
    "    testing=testing,\n",
    "    model=\"TransE\",\n",
    "    model_kwargs=dict(\n",
    "        embedding_dim=128,\n",
    "    ),\n",
    "    training_kwargs=dict(\n",
    "        num_epochs=20\n",
    "    ),\n",
    "    negative_sampler_kwargs=dict(\n",
    "        num_negs_per_pos=5,\n",
    "    ),\n",
    "    random_seed=2025,\n",
    "    device = device\n",
    ")"
   ]
  },
  {
   "cell_type": "markdown",
   "id": "9f879a53",
   "metadata": {},
   "source": [
    "We choose the paper with id: \"4ab60d22-67d1-4683-8648-f1f2601d2ce0\""
   ]
  },
  {
   "cell_type": "code",
   "execution_count": 4,
   "id": "ff153c6a",
   "metadata": {},
   "outputs": [],
   "source": [
    "paper = '4ab60d22-67d1-4683-8648-f1f2601d2ce0'\n",
    "\n",
    "cites = 'cites'\n",
    "written_by = 'written_by'\n",
    "\n",
    "entity_embeddings = resultTransE.model.entity_representations[0](indices= None).detach()\n",
    "relation_embeddings = resultTransE.model.relation_representations[0](indices=None).detach()\n",
    "\n",
    "citing_paper_id = resultTransE.training.entity_to_id[paper]\n",
    "cites_id = resultTransE.training.relation_to_id[cites]\n",
    "\n",
    "citing_paper_embedding = entity_embeddings[citing_paper_id]\n",
    "cites_embedding = relation_embeddings[cites_id]\n"
   ]
  },
  {
   "cell_type": "code",
   "execution_count": null,
   "id": "c3717ac2",
   "metadata": {},
   "outputs": [
    {
     "name": "stdout",
     "output_type": "stream",
     "text": [
      "Exist the most likely cited paper\n",
      "4ab9d02e-f259-4c8b-8a32-446f46e39b9d\n",
      "The most likely cited paper embedding vector: \n",
      " tensor([-0.4141, -0.0728, -0.0018, -0.1064,  0.0072,  0.1647,  0.3833,  0.0118,\n",
      "        -0.0893, -0.0990, -0.0902,  0.0578, -0.0908, -0.2554,  0.1388, -0.3502,\n",
      "         0.0323, -0.0440, -0.2122,  0.0627,  0.2828, -0.3726, -0.2846, -0.3105,\n",
      "        -0.0636, -0.0487,  0.1014, -0.3503,  0.0586, -0.1336,  0.0543,  0.1321,\n",
      "         0.4134, -0.3499, -0.1066, -0.1422,  0.0888, -0.0678,  0.0027, -0.0470,\n",
      "         0.1017, -0.1785, -0.1072,  0.0879, -0.0465,  0.0072,  0.1511,  0.0588,\n",
      "        -0.0484, -0.0184, -0.0692,  0.3753, -0.5091,  0.1053,  0.0048,  0.0741,\n",
      "         0.0670, -0.1079,  0.2577, -0.1313,  0.0008, -0.0704, -0.1396,  0.0238,\n",
      "         0.2597,  0.0568,  0.3082, -0.0633,  0.0732,  0.0029,  0.0502,  0.0682,\n",
      "         0.1119, -0.0565,  0.1727, -0.0975,  0.2068,  0.2273, -0.0609, -0.0098,\n",
      "         0.1960, -0.0964, -0.0171, -0.0784, -0.0602, -0.1564,  0.1163, -0.2336,\n",
      "         0.1197,  0.0200,  0.0351,  0.2381, -0.0047, -0.2593,  0.0548, -0.0476,\n",
      "        -0.1484, -0.0197,  0.0282,  0.0445,  0.0199, -0.0785, -0.0060,  0.4742,\n",
      "        -0.1485,  0.0965, -0.0734,  0.2779,  0.1901,  0.0660,  0.0545,  0.0276,\n",
      "         0.0685,  0.0277,  0.0771,  0.0877, -0.0910,  0.0068,  0.0690,  0.0492,\n",
      "        -0.0060,  0.2703, -0.0536, -0.0284, -0.0470,  0.0449, -0.0508,  0.3609],\n",
      "       device='cuda:0')\n",
      "\n"
     ]
    }
   ],
   "source": [
    "# Compute the estimated embedding of the cited paper\n",
    "cited_paper_embedding = citing_paper_embedding + cites_embedding\n",
    "\n",
    "# Compute Euclidean distances to all entities\n",
    "distances = torch.norm(entity_embeddings - cited_paper_embedding.unsqueeze(0), p=2, dim=1)\n",
    "sorted_distances, sorted_indices = torch.sort(distances)\n",
    "\n",
    "# Find the closest entity that is not the citing paper itself\n",
    "top_cited_paper_id = -1\n",
    "for index in sorted_indices:\n",
    "    if index != citing_paper_id:\n",
    "        top_cited_paper_id = index.item()\n",
    "        break\n",
    "\n",
    "# Output the result\n",
    "if top_cited_paper_id != -1:\n",
    "    print('A likely cited paper was found.')\n",
    "    # print(resultTransE.training.entity_id_to_label[top_cited_paper_id])\n",
    "    print(f'Most likely cited paper embedding vector:\\n{cited_paper_embedding}\\n')\n",
    "else:\n",
    "    print('No likely cited paper found.')"
   ]
  },
  {
   "cell_type": "code",
   "execution_count": 6,
   "id": "c1a0b960",
   "metadata": {},
   "outputs": [
    {
     "name": "stdout",
     "output_type": "stream",
     "text": [
      "The most likely author embedding vector: \n",
      " tensor([-0.2291, -0.0750, -0.1683,  0.0036, -0.1720,  0.0972,  0.2532, -0.0023,\n",
      "         0.0616, -0.0034, -0.0869, -0.0951,  0.0900, -0.3176,  0.1982, -0.4583,\n",
      "        -0.0856,  0.1231, -0.0547, -0.0940,  0.4090, -0.3104, -0.2614, -0.3796,\n",
      "         0.0322,  0.0903,  0.1911, -0.4285, -0.0134, -0.1983,  0.0956, -0.0377,\n",
      "         0.3684, -0.1506, -0.2926, -0.0032,  0.0824,  0.1003,  0.1088,  0.0289,\n",
      "         0.1076, -0.3791, -0.0201, -0.0281, -0.0638,  0.1286,  0.1393, -0.0857,\n",
      "         0.0764, -0.1393, -0.0463,  0.2067, -0.4752,  0.0286, -0.0421,  0.1281,\n",
      "        -0.0565, -0.0312,  0.2051, -0.0626,  0.0520, -0.2215, -0.2345,  0.0691,\n",
      "         0.0910, -0.0806,  0.3323,  0.0194,  0.0602,  0.1336,  0.0536,  0.1749,\n",
      "         0.0958, -0.0351,  0.1372, -0.2816,  0.2361,  0.2288,  0.0508, -0.0231,\n",
      "         0.1109, -0.2008,  0.0111, -0.2359, -0.1036, -0.2390, -0.0220, -0.3131,\n",
      "         0.0262, -0.0025, -0.0559,  0.1125, -0.0328, -0.1895, -0.0834, -0.1039,\n",
      "        -0.0894, -0.0224, -0.0548, -0.0369, -0.0596, -0.0432,  0.1370,  0.5349,\n",
      "        -0.1961,  0.0039, -0.1710,  0.3810,  0.2887, -0.0692, -0.0842, -0.0594,\n",
      "         0.0361,  0.0158, -0.0680,  0.2451, -0.0064, -0.0350,  0.2260,  0.2194,\n",
      "        -0.0729,  0.3578, -0.2051,  0.0277,  0.1048,  0.0139,  0.0768,  0.3549],\n",
      "       device='cuda:0')\n"
     ]
    }
   ],
   "source": [
    "written_by_id = resultTransE.training.relation_to_id[written_by]\n",
    "written_by_embedding = relation_embeddings[written_by_id]\n",
    "\n",
    "author_embedding = cited_paper_embedding + written_by_embedding\n",
    "\n",
    "print(f'The most likely author embedding vector: \\n {author_embedding}')"
   ]
  },
  {
   "cell_type": "code",
   "execution_count": 7,
   "id": "21fa68e5",
   "metadata": {},
   "outputs": [
    {
     "name": "stdout",
     "output_type": "stream",
     "text": [
      "The most likely author is: AUTHOR_331\n"
     ]
    }
   ],
   "source": [
    "distances = torch.norm(entity_embeddings - author_embedding.unsqueeze(0), p=2, dim=1)  # Euclidean Distance\n",
    "sorted_distances, sorted_indices = torch.sort(distances)\n",
    "\n",
    "top_author_id = -1\n",
    "for index in sorted_indices:\n",
    "    if index != citing_paper_id:\n",
    "        top_author_id = index.item()\n",
    "        break\n",
    "if top_author_id != -1:\n",
    "    top_author = resultTransE.training.entity_id_to_label[top_author_id]\n",
    "\n",
    "    print(f'The most likely author is: {top_author}')"
   ]
  }
 ],
 "metadata": {
  "kernelspec": {
   "display_name": "base",
   "language": "python",
   "name": "python3"
  },
  "language_info": {
   "codemirror_mode": {
    "name": "ipython",
    "version": 3
   },
   "file_extension": ".py",
   "mimetype": "text/x-python",
   "name": "python",
   "nbconvert_exporter": "python",
   "pygments_lexer": "ipython3",
   "version": "3.11.5"
  }
 },
 "nbformat": 4,
 "nbformat_minor": 5
}
