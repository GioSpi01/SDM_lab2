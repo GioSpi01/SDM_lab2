{
 "cells": [
  {
   "cell_type": "code",
   "execution_count": null,
   "id": "c39dc028",
   "metadata": {},
   "outputs": [],
   "source": [
    "import torch\n",
    "import pykeen\n",
    "import pandas as pd\n",
    "from pykeen import predict\n",
    "from pykeen.pipeline import pipeline\n",
    "from pykeen.hpo import hpo_pipeline\n",
    "from pykeen.triples import TriplesFactory\n",
    "import numpy as np\n",
    "from pykeen.utils import set_random_seed\n",
    "\n",
    "# Set random seed for reproducibility\n",
    "\n",
    "\n",
    "file_path = 'C.1_query.tsv'\n",
    "tf = TriplesFactory.from_path(file_path, delimiter=\"\\t\")\n",
    "training, testing = tf.split([0.85, 0.15], random_state=2025)\n",
    "training, validation = training.split([0.8, 0.2], random_state=2025)\n",
    "device = \"cuda\" if torch.cuda.is_available() else \"cpu\""
   ]
  },
  {
   "cell_type": "code",
   "execution_count": null,
   "id": "9cc24044",
   "metadata": {},
   "outputs": [],
   "source": [
    "def run_pipeline(model_name, model_kwargs_range, random_seed=2025):\n",
    "    # Set the random seed for reproducibility\n",
    "    set_random_seed(random_seed)\n",
    "\n",
    "    # Validate input\n",
    "    if model_name is None or model_kwargs_range is None:\n",
    "        raise ValueError(\"Both model name and model parameter ranges must be provided.\")\n",
    "\n",
    "    # Run the hyperparameter optimization pipeline\n",
    "    result = hpo_pipeline(\n",
    "        training=training,\n",
    "        testing=testing,\n",
    "        validation=validation,\n",
    "\n",
    "        # Hyperparameter optimization configuration\n",
    "        sampler=\"tpe\",\n",
    "        n_trials=50,\n",
    "\n",
    "        # Training parameter ranges\n",
    "        training_kwargs_ranges=dict(\n",
    "            num_epochs=dict(type=\"int\", low=50, high=150, step=25)\n",
    "        ),\n",
    "\n",
    "        # Model and its parameter search space\n",
    "        model=model_name,\n",
    "        model_kwargs_ranges=model_kwargs_range,\n",
    "\n",
    "        # Optimizer configuration\n",
    "        optimizer=\"adam\",\n",
    "        optimizer_kwargs_ranges=dict(\n",
    "            lr=dict(type=\"float\", low=0.0001, high=0.001, log=True),\n",
    "            weight_decay=dict(type=\"float\", low=1e-4, high=1e-3, log=True)\n",
    "        ),\n",
    "\n",
    "        # Negative sampling configuration\n",
    "        negative_sampler=\"basic\",\n",
    "        negative_sampler_kwargs_ranges=dict(\n",
    "            num_negs_per_pos=dict(type=\"int\", low=1, high=10, step=3)\n",
    "        ),\n",
    "\n",
    "        # Evaluation configuration\n",
    "        evaluation_kwargs=dict(\n",
    "            filtered=True,\n",
    "            batch_size=128,\n",
    "            k=5,\n",
    "            mode='both'\n",
    "        ),\n",
    "\n",
    "        # Early stopping settings\n",
    "        stopper=\"early\",\n",
    "        stopper_kwargs=dict(\n",
    "            patience=10,\n",
    "            frequency=5,\n",
    "            metric=\"hits@5\",\n",
    "            relative_delta=0.002,\n",
    "            larger_is_better=True,\n",
    "        ),\n",
    "\n",
    "        device=device,\n",
    "    )\n",
    "\n",
    "    return result"
   ]
  },
  {
   "cell_type": "markdown",
   "id": "6be8d38b",
   "metadata": {},
   "source": [
    "# TransH Model"
   ]
  },
  {
   "cell_type": "code",
   "execution_count": null,
   "id": "fbf2d6f6",
   "metadata": {},
   "outputs": [],
   "source": [
    "model_name = \"TransH\"\n",
    "model_kwargs_range =dict(\n",
    "            embedding_dim=dict(type=\"int\", low=128, high=256, step=64),\n",
    "        )\n",
    "\n",
    "# Run the HPO pipeline\n",
    "resultTransH = run_pipeline(model_name, model_kwargs_range)"
   ]
  },
  {
   "cell_type": "markdown",
   "id": "55c11ee6",
   "metadata": {},
   "source": [
    "# RotatE Model"
   ]
  },
  {
   "cell_type": "code",
   "execution_count": null,
   "id": "3734effa",
   "metadata": {},
   "outputs": [],
   "source": [
    "model_name = \"RotatE\"\n",
    "model_kwargs_range =dict(\n",
    "            embedding_dim=dict(type=\"int\", low=128, high=256, step=64),\n",
    "        )\n",
    "# Run the HPO pipeline\n",
    "resultRotatE = run_pipeline(model_name, model_kwargs_range)"
   ]
  },
  {
   "cell_type": "markdown",
   "id": "7744cd36",
   "metadata": {},
   "source": [
    "# ComplEx Model"
   ]
  },
  {
   "cell_type": "code",
   "execution_count": null,
   "id": "6ae2551b",
   "metadata": {},
   "outputs": [],
   "source": [
    "model_name = \"ComplEx\"\n",
    "model_kwargs_range =dict(\n",
    "            embedding_dim=dict(type=\"int\", low=128, high=256, step=64),\n",
    "        )\n",
    "# Run the HPO pipeline\n",
    "resultComplEx = run_pipeline(model_name, model_kwargs_range)"
   ]
  },
  {
   "cell_type": "markdown",
   "id": "e5e51e8c",
   "metadata": {},
   "source": [
    "# ConvKB Model"
   ]
  },
  {
   "cell_type": "code",
   "execution_count": null,
   "id": "b126eabc",
   "metadata": {},
   "outputs": [],
   "source": [
    "model_name = \"ConvB\"\n",
    "model_kwargs_range =dict(\n",
    "            embedding_dim=dict(type=\"int\", low=128, high=256, step=64),\n",
    "            hidden_dropout_rate=dict(type=\"float\", low=0.3, high=0.5, step=0.1),\n",
    "            num_filters=dict(type=\"int\", low=64, high=128, step=32),\n",
    "        )\n",
    "# Run the HPO pipeline\n",
    "resultConvB = run_pipeline(model_name, model_kwargs_range)"
   ]
  }
 ],
 "metadata": {
  "kernelspec": {
   "display_name": "Python 3",
   "language": "python",
   "name": "python3"
  },
  "language_info": {
   "codemirror_mode": {
    "name": "ipython",
    "version": 3
   },
   "file_extension": ".py",
   "mimetype": "text/x-python",
   "name": "python",
   "nbconvert_exporter": "python",
   "pygments_lexer": "ipython3",
   "version": "3.11.0"
  }
 },
 "nbformat": 4,
 "nbformat_minor": 5
}
