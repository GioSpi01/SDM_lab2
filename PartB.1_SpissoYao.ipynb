{
 "cells": [
  {
   "cell_type": "code",
   "execution_count": 1,
   "metadata": {},
   "outputs": [],
   "source": [
    "from rdflib import Graph, Literal, RDF, URIRef, RDFS, Namespace\n",
    "\n",
    "# Create a Graph\n",
    "EX = Namespace(\"http://example.org/research_paper#\")\n",
    "\n",
    "# Create a graph\n",
    "g = Graph()\n",
    "\n",
    "# Bind common prefixes (for readability)\n",
    "g.bind(\"ex\", EX)\n",
    "g.bind(\"rdfs\", RDFS)\n",
    "g.bind(\"rdf\", RDF)"
   ]
  },
  {
   "cell_type": "code",
   "execution_count": null,
   "id": "a4535d1b",
   "metadata": {},
   "outputs": [],
   "source": [
    "def create_property(g, namespace, property, domain, range):\n",
    "    g.add((namespace[property], RDF.type, RDF.Property))\n",
    "    g.add((namespace[property], RDFS.domain, namespace[domain]))\n",
    "    g.add((namespace[property], RDFS.range, namespace[range]))\n",
    "\n",
    "def create_class(g, namespace, class_name):\n",
    "    g.add((namespace[class_name], RDF.type, RDFS.Class))\n",
    "\n",
    "def create_subclass(g, namespace, subclass, superclass):\n",
    "    g.add((namespace[subclass], RDFS.subClassOf, namespace[superclass]))\n",
    "\n"
   ]
  },
  {
   "cell_type": "code",
   "execution_count": 3,
   "id": "f678c392",
   "metadata": {},
   "outputs": [],
   "source": [
    "# Create classes\n",
    "create_class(g, EX, \"Paper\")\n",
    "create_class(g, EX, \"Author\")\n",
    "create_class(g, EX, \"Journal\")\n",
    "create_class(g, EX, \"Conference\")\n",
    "create_class(g, EX, \"Topic\")\n",
    "create_class(g, EX, \"Abstract\")\n"
   ]
  },
  {
   "cell_type": "code",
   "execution_count": 5,
   "id": "3348f731",
   "metadata": {},
   "outputs": [
    {
     "name": "stdout",
     "output_type": "stream",
     "text": [
      "(rdflib.term.URIRef('http://example.org/research_paper#Journal'), rdflib.term.URIRef('http://www.w3.org/1999/02/22-rdf-syntax-ns#type'), rdflib.term.URIRef('http://www.w3.org/2000/01/rdf-schema#Class'))\n",
      "(rdflib.term.URIRef('http://example.org/research_paper#Abstract'), rdflib.term.URIRef('http://www.w3.org/1999/02/22-rdf-syntax-ns#type'), rdflib.term.URIRef('http://www.w3.org/2000/01/rdf-schema#Class'))\n",
      "(rdflib.term.URIRef('http://example.org/research_paper#Topic'), rdflib.term.URIRef('http://www.w3.org/1999/02/22-rdf-syntax-ns#type'), rdflib.term.URIRef('http://www.w3.org/2000/01/rdf-schema#Class'))\n",
      "(rdflib.term.URIRef('http://example.org/research_paper#Paper'), rdflib.term.URIRef('http://www.w3.org/1999/02/22-rdf-syntax-ns#type'), rdflib.term.URIRef('http://www.w3.org/2000/01/rdf-schema#Class'))\n",
      "(rdflib.term.URIRef('http://example.org/research_paper#Author'), rdflib.term.URIRef('http://www.w3.org/1999/02/22-rdf-syntax-ns#type'), rdflib.term.URIRef('http://www.w3.org/2000/01/rdf-schema#Class'))\n",
      "(rdflib.term.URIRef('http://example.org/research_paper#Conference'), rdflib.term.URIRef('http://www.w3.org/1999/02/22-rdf-syntax-ns#type'), rdflib.term.URIRef('http://www.w3.org/2000/01/rdf-schema#Class'))\n"
     ]
    }
   ],
   "source": [
    "for s, p, o in g:\n",
    "    print((s, p, o))"
   ]
  }
 ],
 "metadata": {
  "kernelspec": {
   "display_name": "Python 3",
   "language": "python",
   "name": "python3"
  },
  "language_info": {
   "codemirror_mode": {
    "name": "ipython",
    "version": 3
   },
   "file_extension": ".py",
   "mimetype": "text/x-python",
   "name": "python",
   "nbconvert_exporter": "python",
   "pygments_lexer": "ipython3",
   "version": "3.11.0"
  }
 },
 "nbformat": 4,
 "nbformat_minor": 5
}
